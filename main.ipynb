{
 "cells": [
  {
   "cell_type": "code",
   "execution_count": 1,
   "metadata": {},
   "outputs": [
    {
     "name": "stderr",
     "output_type": "stream",
     "text": [
      "/usr/local/lib/python3.6/dist-packages/tensorflow/python/framework/dtypes.py:526: FutureWarning: Passing (type, 1) or '1type' as a synonym of type is deprecated; in a future version of numpy, it will be understood as (type, (1,)) / '(1,)type'.\n",
      "  _np_qint8 = np.dtype([(\"qint8\", np.int8, 1)])\n",
      "/usr/local/lib/python3.6/dist-packages/tensorflow/python/framework/dtypes.py:527: FutureWarning: Passing (type, 1) or '1type' as a synonym of type is deprecated; in a future version of numpy, it will be understood as (type, (1,)) / '(1,)type'.\n",
      "  _np_quint8 = np.dtype([(\"quint8\", np.uint8, 1)])\n",
      "/usr/local/lib/python3.6/dist-packages/tensorflow/python/framework/dtypes.py:528: FutureWarning: Passing (type, 1) or '1type' as a synonym of type is deprecated; in a future version of numpy, it will be understood as (type, (1,)) / '(1,)type'.\n",
      "  _np_qint16 = np.dtype([(\"qint16\", np.int16, 1)])\n",
      "/usr/local/lib/python3.6/dist-packages/tensorflow/python/framework/dtypes.py:529: FutureWarning: Passing (type, 1) or '1type' as a synonym of type is deprecated; in a future version of numpy, it will be understood as (type, (1,)) / '(1,)type'.\n",
      "  _np_quint16 = np.dtype([(\"quint16\", np.uint16, 1)])\n",
      "/usr/local/lib/python3.6/dist-packages/tensorflow/python/framework/dtypes.py:530: FutureWarning: Passing (type, 1) or '1type' as a synonym of type is deprecated; in a future version of numpy, it will be understood as (type, (1,)) / '(1,)type'.\n",
      "  _np_qint32 = np.dtype([(\"qint32\", np.int32, 1)])\n",
      "/usr/local/lib/python3.6/dist-packages/tensorflow/python/framework/dtypes.py:535: FutureWarning: Passing (type, 1) or '1type' as a synonym of type is deprecated; in a future version of numpy, it will be understood as (type, (1,)) / '(1,)type'.\n",
      "  np_resource = np.dtype([(\"resource\", np.ubyte, 1)])\n"
     ]
    }
   ],
   "source": [
    "import pandas as pd\n",
    "import random\n",
    "import numpy as np\n",
    "import math\n",
    "import matplotlib.pyplot as plt\n",
    "import zipfile\n",
    "\n",
    "from sklearn.metrics import precision_recall_curve\n",
    "from sklearn.metrics import precision_score, recall_score\n",
    "from sklearn.linear_model import LinearRegression, LogisticRegression\n",
    "from sklearn.svm import LinearSVC, SVC\n",
    "\n",
    "from tensorflow.keras import Model\n",
    "from tensorflow.keras.models import Sequential\n",
    "from tensorflow.keras import layers\n",
    "from tensorflow.keras.optimizers import SGD, RMSprop, Adam\n",
    "from tensorflow.keras.layers import Input\n",
    "from tensorflow.keras.regularizers import l2\n",
    "\n",
    "import tensorflow as tf\n",
    "import tensorboard"
   ]
  },
  {
   "cell_type": "markdown",
   "metadata": {},
   "source": [
    "# Download dataset"
   ]
  },
  {
   "cell_type": "code",
   "execution_count": null,
   "metadata": {},
   "outputs": [],
   "source": [
    "https://www.kaggle.com/mlg-ulb/creditcardfraud"
   ]
  },
  {
   "cell_type": "markdown",
   "metadata": {},
   "source": [
    "# Unzip Files"
   ]
  },
  {
   "cell_type": "code",
   "execution_count": null,
   "metadata": {},
   "outputs": [],
   "source": [
    "with zipfile.ZipFile('./creditcardfraud.zip', 'r') as f:\n",
    "    f.extractall('.')"
   ]
  },
  {
   "cell_type": "code",
   "execution_count": 2,
   "metadata": {},
   "outputs": [],
   "source": [
    "df = pd.read_csv('./creditcard.csv')"
   ]
  },
  {
   "cell_type": "code",
   "execution_count": 3,
   "metadata": {},
   "outputs": [
    {
     "data": {
      "text/html": [
       "<div>\n",
       "<style scoped>\n",
       "    .dataframe tbody tr th:only-of-type {\n",
       "        vertical-align: middle;\n",
       "    }\n",
       "\n",
       "    .dataframe tbody tr th {\n",
       "        vertical-align: top;\n",
       "    }\n",
       "\n",
       "    .dataframe thead th {\n",
       "        text-align: right;\n",
       "    }\n",
       "</style>\n",
       "<table border=\"1\" class=\"dataframe\">\n",
       "  <thead>\n",
       "    <tr style=\"text-align: right;\">\n",
       "      <th></th>\n",
       "      <th>V1</th>\n",
       "      <th>V2</th>\n",
       "      <th>V3</th>\n",
       "      <th>V4</th>\n",
       "      <th>V5</th>\n",
       "      <th>V6</th>\n",
       "      <th>V7</th>\n",
       "      <th>V8</th>\n",
       "      <th>V9</th>\n",
       "      <th>V10</th>\n",
       "      <th>...</th>\n",
       "      <th>V21</th>\n",
       "      <th>V22</th>\n",
       "      <th>V23</th>\n",
       "      <th>V24</th>\n",
       "      <th>V25</th>\n",
       "      <th>V26</th>\n",
       "      <th>V27</th>\n",
       "      <th>V28</th>\n",
       "      <th>Amount</th>\n",
       "      <th>Class</th>\n",
       "    </tr>\n",
       "  </thead>\n",
       "  <tbody>\n",
       "    <tr>\n",
       "      <th>0</th>\n",
       "      <td>-0.694241</td>\n",
       "      <td>-0.044075</td>\n",
       "      <td>1.672771</td>\n",
       "      <td>0.973364</td>\n",
       "      <td>-0.245116</td>\n",
       "      <td>0.347067</td>\n",
       "      <td>0.193679</td>\n",
       "      <td>0.082637</td>\n",
       "      <td>0.331127</td>\n",
       "      <td>0.083385</td>\n",
       "      <td>...</td>\n",
       "      <td>-0.024923</td>\n",
       "      <td>0.382854</td>\n",
       "      <td>-0.176911</td>\n",
       "      <td>0.110507</td>\n",
       "      <td>0.246585</td>\n",
       "      <td>-0.392170</td>\n",
       "      <td>0.330891</td>\n",
       "      <td>-0.063781</td>\n",
       "      <td>0.244964</td>\n",
       "      <td>0</td>\n",
       "    </tr>\n",
       "    <tr>\n",
       "      <th>1</th>\n",
       "      <td>0.608495</td>\n",
       "      <td>0.161176</td>\n",
       "      <td>0.109797</td>\n",
       "      <td>0.316522</td>\n",
       "      <td>0.043483</td>\n",
       "      <td>-0.061820</td>\n",
       "      <td>-0.063700</td>\n",
       "      <td>0.071253</td>\n",
       "      <td>-0.232494</td>\n",
       "      <td>-0.153349</td>\n",
       "      <td>...</td>\n",
       "      <td>-0.307376</td>\n",
       "      <td>-0.880075</td>\n",
       "      <td>0.162201</td>\n",
       "      <td>-0.561130</td>\n",
       "      <td>0.320693</td>\n",
       "      <td>0.261069</td>\n",
       "      <td>-0.022256</td>\n",
       "      <td>0.044607</td>\n",
       "      <td>-0.342474</td>\n",
       "      <td>0</td>\n",
       "    </tr>\n",
       "    <tr>\n",
       "      <th>2</th>\n",
       "      <td>-0.693499</td>\n",
       "      <td>-0.811576</td>\n",
       "      <td>1.169466</td>\n",
       "      <td>0.268231</td>\n",
       "      <td>-0.364571</td>\n",
       "      <td>1.351451</td>\n",
       "      <td>0.639775</td>\n",
       "      <td>0.207372</td>\n",
       "      <td>-1.378673</td>\n",
       "      <td>0.190699</td>\n",
       "      <td>...</td>\n",
       "      <td>0.337631</td>\n",
       "      <td>1.063356</td>\n",
       "      <td>1.456317</td>\n",
       "      <td>-1.138090</td>\n",
       "      <td>-0.628536</td>\n",
       "      <td>-0.288446</td>\n",
       "      <td>-0.137137</td>\n",
       "      <td>-0.181021</td>\n",
       "      <td>1.160684</td>\n",
       "      <td>0</td>\n",
       "    </tr>\n",
       "    <tr>\n",
       "      <th>3</th>\n",
       "      <td>-0.493324</td>\n",
       "      <td>-0.112169</td>\n",
       "      <td>1.182514</td>\n",
       "      <td>-0.609726</td>\n",
       "      <td>-0.007469</td>\n",
       "      <td>0.936148</td>\n",
       "      <td>0.192070</td>\n",
       "      <td>0.316017</td>\n",
       "      <td>-1.262501</td>\n",
       "      <td>-0.050468</td>\n",
       "      <td>...</td>\n",
       "      <td>-0.147443</td>\n",
       "      <td>0.007267</td>\n",
       "      <td>-0.304776</td>\n",
       "      <td>-1.941024</td>\n",
       "      <td>1.241902</td>\n",
       "      <td>-0.460217</td>\n",
       "      <td>0.155396</td>\n",
       "      <td>0.186188</td>\n",
       "      <td>0.140534</td>\n",
       "      <td>0</td>\n",
       "    </tr>\n",
       "    <tr>\n",
       "      <th>4</th>\n",
       "      <td>-0.591329</td>\n",
       "      <td>0.531540</td>\n",
       "      <td>1.021410</td>\n",
       "      <td>0.284655</td>\n",
       "      <td>-0.295015</td>\n",
       "      <td>0.071998</td>\n",
       "      <td>0.479301</td>\n",
       "      <td>-0.226510</td>\n",
       "      <td>0.744325</td>\n",
       "      <td>0.691624</td>\n",
       "      <td>...</td>\n",
       "      <td>-0.012839</td>\n",
       "      <td>1.100009</td>\n",
       "      <td>-0.220123</td>\n",
       "      <td>0.233250</td>\n",
       "      <td>-0.395201</td>\n",
       "      <td>1.041609</td>\n",
       "      <td>0.543619</td>\n",
       "      <td>0.651815</td>\n",
       "      <td>-0.073403</td>\n",
       "      <td>0</td>\n",
       "    </tr>\n",
       "  </tbody>\n",
       "</table>\n",
       "<p>5 rows × 30 columns</p>\n",
       "</div>"
      ],
      "text/plain": [
       "         V1        V2        V3        V4        V5        V6        V7  \\\n",
       "0 -0.694241 -0.044075  1.672771  0.973364 -0.245116  0.347067  0.193679   \n",
       "1  0.608495  0.161176  0.109797  0.316522  0.043483 -0.061820 -0.063700   \n",
       "2 -0.693499 -0.811576  1.169466  0.268231 -0.364571  1.351451  0.639775   \n",
       "3 -0.493324 -0.112169  1.182514 -0.609726 -0.007469  0.936148  0.192070   \n",
       "4 -0.591329  0.531540  1.021410  0.284655 -0.295015  0.071998  0.479301   \n",
       "\n",
       "         V8        V9       V10  ...       V21       V22       V23       V24  \\\n",
       "0  0.082637  0.331127  0.083385  ... -0.024923  0.382854 -0.176911  0.110507   \n",
       "1  0.071253 -0.232494 -0.153349  ... -0.307376 -0.880075  0.162201 -0.561130   \n",
       "2  0.207372 -1.378673  0.190699  ...  0.337631  1.063356  1.456317 -1.138090   \n",
       "3  0.316017 -1.262501 -0.050468  ... -0.147443  0.007267 -0.304776 -1.941024   \n",
       "4 -0.226510  0.744325  0.691624  ... -0.012839  1.100009 -0.220123  0.233250   \n",
       "\n",
       "        V25       V26       V27       V28    Amount  Class  \n",
       "0  0.246585 -0.392170  0.330891 -0.063781  0.244964      0  \n",
       "1  0.320693  0.261069 -0.022256  0.044607 -0.342474      0  \n",
       "2 -0.628536 -0.288446 -0.137137 -0.181021  1.160684      0  \n",
       "3  1.241902 -0.460217  0.155396  0.186188  0.140534      0  \n",
       "4 -0.395201  1.041609  0.543619  0.651815 -0.073403      0  \n",
       "\n",
       "[5 rows x 30 columns]"
      ]
     },
     "execution_count": 3,
     "metadata": {},
     "output_type": "execute_result"
    }
   ],
   "source": [
    "df = df.dropna()\n",
    "df = df.drop(columns='Time')\n",
    "\n",
    "df.iloc[:, :-1] = (df.iloc[:, :-1] - df.iloc[:, :-1].mean()) / df.iloc[:, :-1].std()\n",
    "\n",
    "df.head()"
   ]
  },
  {
   "cell_type": "code",
   "execution_count": 4,
   "metadata": {},
   "outputs": [
    {
     "data": {
      "text/html": [
       "<div>\n",
       "<style scoped>\n",
       "    .dataframe tbody tr th:only-of-type {\n",
       "        vertical-align: middle;\n",
       "    }\n",
       "\n",
       "    .dataframe tbody tr th {\n",
       "        vertical-align: top;\n",
       "    }\n",
       "\n",
       "    .dataframe thead th {\n",
       "        text-align: right;\n",
       "    }\n",
       "</style>\n",
       "<table border=\"1\" class=\"dataframe\">\n",
       "  <thead>\n",
       "    <tr style=\"text-align: right;\">\n",
       "      <th></th>\n",
       "      <th>V1</th>\n",
       "      <th>V2</th>\n",
       "      <th>V3</th>\n",
       "      <th>V4</th>\n",
       "      <th>V5</th>\n",
       "      <th>V6</th>\n",
       "      <th>V7</th>\n",
       "      <th>V8</th>\n",
       "      <th>V9</th>\n",
       "      <th>V10</th>\n",
       "      <th>...</th>\n",
       "      <th>V21</th>\n",
       "      <th>V22</th>\n",
       "      <th>V23</th>\n",
       "      <th>V24</th>\n",
       "      <th>V25</th>\n",
       "      <th>V26</th>\n",
       "      <th>V27</th>\n",
       "      <th>V28</th>\n",
       "      <th>Amount</th>\n",
       "      <th>Class</th>\n",
       "    </tr>\n",
       "  </thead>\n",
       "  <tbody>\n",
       "    <tr>\n",
       "      <th>count</th>\n",
       "      <td>2.848070e+05</td>\n",
       "      <td>2.848070e+05</td>\n",
       "      <td>2.848070e+05</td>\n",
       "      <td>2.848070e+05</td>\n",
       "      <td>2.848070e+05</td>\n",
       "      <td>2.848070e+05</td>\n",
       "      <td>2.848070e+05</td>\n",
       "      <td>2.848070e+05</td>\n",
       "      <td>2.848070e+05</td>\n",
       "      <td>2.848070e+05</td>\n",
       "      <td>...</td>\n",
       "      <td>2.848070e+05</td>\n",
       "      <td>2.848070e+05</td>\n",
       "      <td>2.848070e+05</td>\n",
       "      <td>2.848070e+05</td>\n",
       "      <td>2.848070e+05</td>\n",
       "      <td>2.848070e+05</td>\n",
       "      <td>2.848070e+05</td>\n",
       "      <td>2.848070e+05</td>\n",
       "      <td>2.848070e+05</td>\n",
       "      <td>284807.000000</td>\n",
       "    </tr>\n",
       "    <tr>\n",
       "      <th>mean</th>\n",
       "      <td>-1.407479e-15</td>\n",
       "      <td>-1.516852e-16</td>\n",
       "      <td>4.879472e-15</td>\n",
       "      <td>-4.845942e-16</td>\n",
       "      <td>1.868921e-15</td>\n",
       "      <td>-3.879947e-16</td>\n",
       "      <td>9.288721e-16</td>\n",
       "      <td>2.476859e-16</td>\n",
       "      <td>6.584334e-16</td>\n",
       "      <td>4.274129e-16</td>\n",
       "      <td>...</td>\n",
       "      <td>8.981359e-19</td>\n",
       "      <td>-1.591098e-15</td>\n",
       "      <td>-4.418829e-16</td>\n",
       "      <td>4.390887e-17</td>\n",
       "      <td>-1.757951e-15</td>\n",
       "      <td>-2.815406e-17</td>\n",
       "      <td>2.532244e-18</td>\n",
       "      <td>-8.781773e-18</td>\n",
       "      <td>2.308662e-13</td>\n",
       "      <td>0.001727</td>\n",
       "    </tr>\n",
       "    <tr>\n",
       "      <th>std</th>\n",
       "      <td>1.000000e+00</td>\n",
       "      <td>1.000000e+00</td>\n",
       "      <td>1.000000e+00</td>\n",
       "      <td>1.000000e+00</td>\n",
       "      <td>1.000000e+00</td>\n",
       "      <td>1.000000e+00</td>\n",
       "      <td>1.000000e+00</td>\n",
       "      <td>1.000000e+00</td>\n",
       "      <td>1.000000e+00</td>\n",
       "      <td>1.000000e+00</td>\n",
       "      <td>...</td>\n",
       "      <td>1.000000e+00</td>\n",
       "      <td>1.000000e+00</td>\n",
       "      <td>1.000000e+00</td>\n",
       "      <td>1.000000e+00</td>\n",
       "      <td>1.000000e+00</td>\n",
       "      <td>1.000000e+00</td>\n",
       "      <td>1.000000e+00</td>\n",
       "      <td>1.000000e+00</td>\n",
       "      <td>1.000000e+00</td>\n",
       "      <td>0.041527</td>\n",
       "    </tr>\n",
       "    <tr>\n",
       "      <th>min</th>\n",
       "      <td>-2.879850e+01</td>\n",
       "      <td>-4.403521e+01</td>\n",
       "      <td>-3.187168e+01</td>\n",
       "      <td>-4.013912e+00</td>\n",
       "      <td>-8.240795e+01</td>\n",
       "      <td>-1.963602e+01</td>\n",
       "      <td>-3.520933e+01</td>\n",
       "      <td>-6.130242e+01</td>\n",
       "      <td>-1.222799e+01</td>\n",
       "      <td>-2.258187e+01</td>\n",
       "      <td>...</td>\n",
       "      <td>-4.741898e+01</td>\n",
       "      <td>-1.506562e+01</td>\n",
       "      <td>-7.175434e+01</td>\n",
       "      <td>-4.683630e+00</td>\n",
       "      <td>-1.975030e+01</td>\n",
       "      <td>-5.401088e+00</td>\n",
       "      <td>-5.590650e+01</td>\n",
       "      <td>-4.674604e+01</td>\n",
       "      <td>-3.532288e-01</td>\n",
       "      <td>0.000000</td>\n",
       "    </tr>\n",
       "    <tr>\n",
       "      <th>25%</th>\n",
       "      <td>-4.698909e-01</td>\n",
       "      <td>-3.624701e-01</td>\n",
       "      <td>-5.872131e-01</td>\n",
       "      <td>-5.993777e-01</td>\n",
       "      <td>-5.010677e-01</td>\n",
       "      <td>-5.766811e-01</td>\n",
       "      <td>-4.478852e-01</td>\n",
       "      <td>-1.746801e-01</td>\n",
       "      <td>-5.853621e-01</td>\n",
       "      <td>-4.917352e-01</td>\n",
       "      <td>...</td>\n",
       "      <td>-3.109428e-01</td>\n",
       "      <td>-7.473463e-01</td>\n",
       "      <td>-2.591780e-01</td>\n",
       "      <td>-5.854666e-01</td>\n",
       "      <td>-6.083990e-01</td>\n",
       "      <td>-6.780705e-01</td>\n",
       "      <td>-1.755050e-01</td>\n",
       "      <td>-1.604437e-01</td>\n",
       "      <td>-3.308395e-01</td>\n",
       "      <td>0.000000</td>\n",
       "    </tr>\n",
       "    <tr>\n",
       "      <th>50%</th>\n",
       "      <td>9.245335e-03</td>\n",
       "      <td>3.965677e-02</td>\n",
       "      <td>1.186122e-01</td>\n",
       "      <td>-1.401721e-02</td>\n",
       "      <td>-3.936675e-02</td>\n",
       "      <td>-2.058043e-01</td>\n",
       "      <td>3.241718e-02</td>\n",
       "      <td>1.871979e-02</td>\n",
       "      <td>-4.681161e-02</td>\n",
       "      <td>-8.533536e-02</td>\n",
       "      <td>...</td>\n",
       "      <td>-4.009422e-02</td>\n",
       "      <td>9.345360e-03</td>\n",
       "      <td>-1.792417e-02</td>\n",
       "      <td>6.765666e-02</td>\n",
       "      <td>3.183234e-02</td>\n",
       "      <td>-1.081215e-01</td>\n",
       "      <td>3.325168e-03</td>\n",
       "      <td>3.406362e-02</td>\n",
       "      <td>-2.652710e-01</td>\n",
       "      <td>0.000000</td>\n",
       "    </tr>\n",
       "    <tr>\n",
       "      <th>75%</th>\n",
       "      <td>6.716927e-01</td>\n",
       "      <td>4.867194e-01</td>\n",
       "      <td>6.774557e-01</td>\n",
       "      <td>5.250073e-01</td>\n",
       "      <td>4.433457e-01</td>\n",
       "      <td>2.991620e-01</td>\n",
       "      <td>4.611099e-01</td>\n",
       "      <td>2.740780e-01</td>\n",
       "      <td>5.435296e-01</td>\n",
       "      <td>4.168834e-01</td>\n",
       "      <td>...</td>\n",
       "      <td>2.537387e-01</td>\n",
       "      <td>7.283347e-01</td>\n",
       "      <td>2.364315e-01</td>\n",
       "      <td>7.257141e-01</td>\n",
       "      <td>6.727994e-01</td>\n",
       "      <td>4.996654e-01</td>\n",
       "      <td>2.255644e-01</td>\n",
       "      <td>2.371521e-01</td>\n",
       "      <td>-4.471699e-02</td>\n",
       "      <td>0.000000</td>\n",
       "    </tr>\n",
       "    <tr>\n",
       "      <th>max</th>\n",
       "      <td>1.253349e+00</td>\n",
       "      <td>1.335773e+01</td>\n",
       "      <td>6.187982e+00</td>\n",
       "      <td>1.191872e+01</td>\n",
       "      <td>2.521409e+01</td>\n",
       "      <td>5.502005e+01</td>\n",
       "      <td>9.747807e+01</td>\n",
       "      <td>1.675150e+01</td>\n",
       "      <td>1.419492e+01</td>\n",
       "      <td>2.180754e+01</td>\n",
       "      <td>...</td>\n",
       "      <td>3.703465e+01</td>\n",
       "      <td>1.447302e+01</td>\n",
       "      <td>3.607661e+01</td>\n",
       "      <td>7.569671e+00</td>\n",
       "      <td>1.442529e+01</td>\n",
       "      <td>7.293962e+00</td>\n",
       "      <td>7.831926e+01</td>\n",
       "      <td>1.025432e+02</td>\n",
       "      <td>1.023621e+02</td>\n",
       "      <td>1.000000</td>\n",
       "    </tr>\n",
       "  </tbody>\n",
       "</table>\n",
       "<p>8 rows × 30 columns</p>\n",
       "</div>"
      ],
      "text/plain": [
       "                 V1            V2            V3            V4            V5  \\\n",
       "count  2.848070e+05  2.848070e+05  2.848070e+05  2.848070e+05  2.848070e+05   \n",
       "mean  -1.407479e-15 -1.516852e-16  4.879472e-15 -4.845942e-16  1.868921e-15   \n",
       "std    1.000000e+00  1.000000e+00  1.000000e+00  1.000000e+00  1.000000e+00   \n",
       "min   -2.879850e+01 -4.403521e+01 -3.187168e+01 -4.013912e+00 -8.240795e+01   \n",
       "25%   -4.698909e-01 -3.624701e-01 -5.872131e-01 -5.993777e-01 -5.010677e-01   \n",
       "50%    9.245335e-03  3.965677e-02  1.186122e-01 -1.401721e-02 -3.936675e-02   \n",
       "75%    6.716927e-01  4.867194e-01  6.774557e-01  5.250073e-01  4.433457e-01   \n",
       "max    1.253349e+00  1.335773e+01  6.187982e+00  1.191872e+01  2.521409e+01   \n",
       "\n",
       "                 V6            V7            V8            V9           V10  \\\n",
       "count  2.848070e+05  2.848070e+05  2.848070e+05  2.848070e+05  2.848070e+05   \n",
       "mean  -3.879947e-16  9.288721e-16  2.476859e-16  6.584334e-16  4.274129e-16   \n",
       "std    1.000000e+00  1.000000e+00  1.000000e+00  1.000000e+00  1.000000e+00   \n",
       "min   -1.963602e+01 -3.520933e+01 -6.130242e+01 -1.222799e+01 -2.258187e+01   \n",
       "25%   -5.766811e-01 -4.478852e-01 -1.746801e-01 -5.853621e-01 -4.917352e-01   \n",
       "50%   -2.058043e-01  3.241718e-02  1.871979e-02 -4.681161e-02 -8.533536e-02   \n",
       "75%    2.991620e-01  4.611099e-01  2.740780e-01  5.435296e-01  4.168834e-01   \n",
       "max    5.502005e+01  9.747807e+01  1.675150e+01  1.419492e+01  2.180754e+01   \n",
       "\n",
       "       ...           V21           V22           V23           V24  \\\n",
       "count  ...  2.848070e+05  2.848070e+05  2.848070e+05  2.848070e+05   \n",
       "mean   ...  8.981359e-19 -1.591098e-15 -4.418829e-16  4.390887e-17   \n",
       "std    ...  1.000000e+00  1.000000e+00  1.000000e+00  1.000000e+00   \n",
       "min    ... -4.741898e+01 -1.506562e+01 -7.175434e+01 -4.683630e+00   \n",
       "25%    ... -3.109428e-01 -7.473463e-01 -2.591780e-01 -5.854666e-01   \n",
       "50%    ... -4.009422e-02  9.345360e-03 -1.792417e-02  6.765666e-02   \n",
       "75%    ...  2.537387e-01  7.283347e-01  2.364315e-01  7.257141e-01   \n",
       "max    ...  3.703465e+01  1.447302e+01  3.607661e+01  7.569671e+00   \n",
       "\n",
       "                V25           V26           V27           V28        Amount  \\\n",
       "count  2.848070e+05  2.848070e+05  2.848070e+05  2.848070e+05  2.848070e+05   \n",
       "mean  -1.757951e-15 -2.815406e-17  2.532244e-18 -8.781773e-18  2.308662e-13   \n",
       "std    1.000000e+00  1.000000e+00  1.000000e+00  1.000000e+00  1.000000e+00   \n",
       "min   -1.975030e+01 -5.401088e+00 -5.590650e+01 -4.674604e+01 -3.532288e-01   \n",
       "25%   -6.083990e-01 -6.780705e-01 -1.755050e-01 -1.604437e-01 -3.308395e-01   \n",
       "50%    3.183234e-02 -1.081215e-01  3.325168e-03  3.406362e-02 -2.652710e-01   \n",
       "75%    6.727994e-01  4.996654e-01  2.255644e-01  2.371521e-01 -4.471699e-02   \n",
       "max    1.442529e+01  7.293962e+00  7.831926e+01  1.025432e+02  1.023621e+02   \n",
       "\n",
       "               Class  \n",
       "count  284807.000000  \n",
       "mean        0.001727  \n",
       "std         0.041527  \n",
       "min         0.000000  \n",
       "25%         0.000000  \n",
       "50%         0.000000  \n",
       "75%         0.000000  \n",
       "max         1.000000  \n",
       "\n",
       "[8 rows x 30 columns]"
      ]
     },
     "execution_count": 4,
     "metadata": {},
     "output_type": "execute_result"
    }
   ],
   "source": [
    "df.describe()"
   ]
  },
  {
   "cell_type": "code",
   "execution_count": 5,
   "metadata": {},
   "outputs": [
    {
     "data": {
      "text/plain": [
       "count    2.848070e+05\n",
       "mean     2.308662e-13\n",
       "std      1.000000e+00\n",
       "min     -3.532288e-01\n",
       "25%     -3.308395e-01\n",
       "50%     -2.652710e-01\n",
       "75%     -4.471699e-02\n",
       "max      1.023621e+02\n",
       "Name: Amount, dtype: float64"
      ]
     },
     "execution_count": 5,
     "metadata": {},
     "output_type": "execute_result"
    }
   ],
   "source": [
    "df.Amount.describe()"
   ]
  },
  {
   "cell_type": "code",
   "execution_count": 6,
   "metadata": {},
   "outputs": [
    {
     "name": "stdout",
     "output_type": "stream",
     "text": [
      "Fraud Transaction Array shape: (492, 30)\n",
      "Non-Fraud Transaction Array shape: (284315, 30)\n"
     ]
    }
   ],
   "source": [
    "fraud_transactions = df[df.Class == 1]\n",
    "fraud_transactions_array = fraud_transactions.to_numpy()\n",
    "print(\"Fraud Transaction Array shape:\", fraud_transactions_array.shape)\n",
    "\n",
    "non_fraud_transactions = df[df.Class == 0]\n",
    "non_fraud_transactions_array = non_fraud_transactions.to_numpy()\n",
    "print(\"Non-Fraud Transaction Array shape:\", non_fraud_transactions_array.shape)"
   ]
  },
  {
   "cell_type": "code",
   "execution_count": 7,
   "metadata": {},
   "outputs": [
    {
     "name": "stdout",
     "output_type": "stream",
     "text": [
      "Train Non-Fraud samples shape: (508, 30)\n"
     ]
    }
   ],
   "source": [
    "non_fraud = non_fraud_transactions_array[:508]\n",
    "\n",
    "print(\"Train Non-Fraud samples shape:\", non_fraud.shape)"
   ]
  },
  {
   "cell_type": "code",
   "execution_count": 8,
   "metadata": {},
   "outputs": [],
   "source": [
    "Data = np.concatenate((fraud_transactions_array, non_fraud))"
   ]
  },
  {
   "cell_type": "code",
   "execution_count": 9,
   "metadata": {},
   "outputs": [
    {
     "name": "stdout",
     "output_type": "stream",
     "text": [
      "Total train shape: (1000, 30)\n"
     ]
    }
   ],
   "source": [
    "print(\"Total train shape:\", Data.shape)"
   ]
  },
  {
   "cell_type": "code",
   "execution_count": 10,
   "metadata": {},
   "outputs": [],
   "source": [
    "train_test_ratio = 0.9"
   ]
  },
  {
   "cell_type": "code",
   "execution_count": 11,
   "metadata": {},
   "outputs": [
    {
     "name": "stdout",
     "output_type": "stream",
     "text": [
      "X train shape: (900, 29)\n",
      "y train shape: (900,)\n",
      "\n",
      "X test shape: (100, 29)\n",
      "y test shape: (100,)\n"
     ]
    }
   ],
   "source": [
    "random.shuffle(Data)\n",
    "\n",
    "x_train = Data[:math.floor(train_test_ratio * len(Data))][:, :29]\n",
    "y_train = Data[:math.floor(train_test_ratio * len(Data))][:, 29]\n",
    "\n",
    "x_test = Data[math.floor(train_test_ratio * len(Data)):][:, :29]\n",
    "y_test = Data[math.floor(train_test_ratio * len(Data)):][:, 29]\n",
    "\n",
    "print(\"X train shape:\", x_train.shape)\n",
    "print(\"y train shape:\", y_train.shape)\n",
    "print()\n",
    "print(\"X test shape:\", x_test.shape)\n",
    "print(\"y test shape:\", y_test.shape)"
   ]
  },
  {
   "cell_type": "markdown",
   "metadata": {},
   "source": [
    "# Classification function"
   ]
  },
  {
   "cell_type": "code",
   "execution_count": 83,
   "metadata": {},
   "outputs": [],
   "source": [
    "def classify(y, threshold=0.5):\n",
    "    new_y = []\n",
    "    for x in y:\n",
    "        if x >= threshold:\n",
    "            new_y.append(float(1.))\n",
    "        else:\n",
    "            new_y.append(float(0.))\n",
    "    return np.asarray(new_y)"
   ]
  },
  {
   "cell_type": "markdown",
   "metadata": {},
   "source": [
    "# Linear Regression"
   ]
  },
  {
   "cell_type": "code",
   "execution_count": 64,
   "metadata": {},
   "outputs": [],
   "source": [
    "linear_regression_clf = LinearRegression(fit_intercept=True, normalize=True)"
   ]
  },
  {
   "cell_type": "code",
   "execution_count": 14,
   "metadata": {},
   "outputs": [
    {
     "data": {
      "text/plain": [
       "LinearRegression(copy_X=True, fit_intercept=True, n_jobs=None, normalize=True)"
      ]
     },
     "execution_count": 14,
     "metadata": {},
     "output_type": "execute_result"
    }
   ],
   "source": [
    "linear_regression_clf.fit(X=x_train, y=y_train)"
   ]
  },
  {
   "cell_type": "code",
   "execution_count": 15,
   "metadata": {},
   "outputs": [],
   "source": [
    "y_predict = linear_regression_clf.predict(X=x_test)"
   ]
  },
  {
   "cell_type": "code",
   "execution_count": 16,
   "metadata": {},
   "outputs": [],
   "source": [
    "y_predict = classify(y_predict)"
   ]
  },
  {
   "cell_type": "code",
   "execution_count": 17,
   "metadata": {},
   "outputs": [
    {
     "name": "stdout",
     "output_type": "stream",
     "text": [
      "[Linear Regression] --> Accuracy over validation set: 0.67\n"
     ]
    }
   ],
   "source": [
    "true_guesses = np.sum(y_predict == y_test)\n",
    "accuracy_over_validation_set = true_guesses / len(y_test)\n",
    "print(\"[Linear Regression] --> Accuracy over validation set:\", accuracy_over_validation_set)"
   ]
  },
  {
   "cell_type": "markdown",
   "metadata": {},
   "source": [
    "# Logistic Regression"
   ]
  },
  {
   "cell_type": "code",
   "execution_count": 18,
   "metadata": {},
   "outputs": [],
   "source": [
    "logistic_regression_clf = LogisticRegression(verbose=1, penalty='l2', max_iter=100)"
   ]
  },
  {
   "cell_type": "code",
   "execution_count": 19,
   "metadata": {},
   "outputs": [
    {
     "name": "stderr",
     "output_type": "stream",
     "text": [
      "[Parallel(n_jobs=1)]: Using backend SequentialBackend with 1 concurrent workers.\n",
      "[Parallel(n_jobs=1)]: Done   1 out of   1 | elapsed:    0.0s finished\n"
     ]
    }
   ],
   "source": [
    "history = logistic_regression_clf.fit(x_train, y_train)"
   ]
  },
  {
   "cell_type": "code",
   "execution_count": 20,
   "metadata": {},
   "outputs": [],
   "source": [
    "y_predict = logistic_regression_clf.predict(x_test)"
   ]
  },
  {
   "cell_type": "code",
   "execution_count": 21,
   "metadata": {},
   "outputs": [],
   "source": [
    "y_predict = classify(y_predict)"
   ]
  },
  {
   "cell_type": "code",
   "execution_count": 22,
   "metadata": {},
   "outputs": [
    {
     "name": "stdout",
     "output_type": "stream",
     "text": [
      "[Logistic Regression] --> Accuracy over validation set: 0.87\n"
     ]
    }
   ],
   "source": [
    "true_guesses = np.sum(y_predict == y_test)\n",
    "accuracy_over_validation_set = true_guesses / len(y_test)\n",
    "print(\"[Logistic Regression] --> Accuracy over validation set:\", accuracy_over_validation_set)"
   ]
  },
  {
   "cell_type": "markdown",
   "metadata": {},
   "source": [
    "# Linear SVC"
   ]
  },
  {
   "cell_type": "code",
   "execution_count": 23,
   "metadata": {},
   "outputs": [],
   "source": [
    "linear_svc_clf = LinearSVC(penalty='l2', verbose=True)"
   ]
  },
  {
   "cell_type": "code",
   "execution_count": 24,
   "metadata": {},
   "outputs": [
    {
     "name": "stdout",
     "output_type": "stream",
     "text": [
      "[LibLinear]"
     ]
    },
    {
     "name": "stderr",
     "output_type": "stream",
     "text": [
      "/home/farzam/.local/lib/python3.6/site-packages/sklearn/svm/_base.py:947: ConvergenceWarning: Liblinear failed to converge, increase the number of iterations.\n",
      "  \"the number of iterations.\", ConvergenceWarning)\n"
     ]
    }
   ],
   "source": [
    "history = linear_svc_clf.fit(x_train, y_train)"
   ]
  },
  {
   "cell_type": "code",
   "execution_count": 25,
   "metadata": {},
   "outputs": [],
   "source": [
    "y_predict = linear_svc_clf.predict(x_test)"
   ]
  },
  {
   "cell_type": "code",
   "execution_count": 26,
   "metadata": {},
   "outputs": [
    {
     "name": "stdout",
     "output_type": "stream",
     "text": [
      "[Linear SVC] --> Accuracy over validation set: 0.91\n"
     ]
    }
   ],
   "source": [
    "true_guesses = np.sum(y_predict == y_test)\n",
    "accuracy_over_validation_set = true_guesses / len(y_test)\n",
    "print(\"[Linear SVC] --> Accuracy over validation set:\", accuracy_over_validation_set)"
   ]
  },
  {
   "cell_type": "markdown",
   "metadata": {},
   "source": [
    "# SVC\n",
    "* We use [Radial Basis Function (RBF) kernel SVM](https://scikit-learn.org/stable/auto_examples/svm/plot_rbf_parameters.html) as kernel to classify our data."
   ]
  },
  {
   "cell_type": "code",
   "execution_count": 27,
   "metadata": {},
   "outputs": [],
   "source": [
    "svc_clf = SVC(kernel='rbf', gamma='auto')"
   ]
  },
  {
   "cell_type": "code",
   "execution_count": 28,
   "metadata": {},
   "outputs": [],
   "source": [
    "history = svc_clf.fit(x_train, y_train)"
   ]
  },
  {
   "cell_type": "code",
   "execution_count": 29,
   "metadata": {},
   "outputs": [],
   "source": [
    "y_predict = svc_clf.predict(x_test)"
   ]
  },
  {
   "cell_type": "code",
   "execution_count": 30,
   "metadata": {},
   "outputs": [
    {
     "name": "stdout",
     "output_type": "stream",
     "text": [
      "[SVC with BRF kernel] --> Accuracy over validation set: 0.93\n"
     ]
    }
   ],
   "source": [
    "true_guesses = np.sum(y_predict == y_test)\n",
    "accuracy_over_validation_set = true_guesses / len(y_test)\n",
    "print(\"[SVC with BRF kernel] --> Accuracy over validation set:\", accuracy_over_validation_set)"
   ]
  },
  {
   "cell_type": "markdown",
   "metadata": {},
   "source": [
    "# Neural network"
   ]
  },
  {
   "cell_type": "code",
   "execution_count": 31,
   "metadata": {},
   "outputs": [],
   "source": [
    "model = Sequential([\n",
    "    layers.Dense(16, activation='relu', kernel_regularizer=l2(0.005)),\n",
    "    layers.Dense(32, activation='relu', kernel_regularizer=l2(0.005)),\n",
    "    layers.Dense(8, activation='relu'),\n",
    "    layers.Dense(1, activation='sigmoid')\n",
    "])"
   ]
  },
  {
   "cell_type": "code",
   "execution_count": 32,
   "metadata": {},
   "outputs": [
    {
     "name": "stdout",
     "output_type": "stream",
     "text": [
      "WARNING:tensorflow:From /usr/local/lib/python3.6/dist-packages/tensorflow/python/ops/resource_variable_ops.py:435: colocate_with (from tensorflow.python.framework.ops) is deprecated and will be removed in a future version.\n",
      "Instructions for updating:\n",
      "Colocations handled automatically by placer.\n"
     ]
    }
   ],
   "source": [
    "model.compile(tf.keras.optimizers.SGD(0.005), loss='binary_crossentropy', metrics=['acc'])"
   ]
  },
  {
   "cell_type": "code",
   "execution_count": 33,
   "metadata": {},
   "outputs": [
    {
     "name": "stdout",
     "output_type": "stream",
     "text": [
      "Train on 900 samples, validate on 100 samples\n",
      "WARNING:tensorflow:From /usr/local/lib/python3.6/dist-packages/tensorflow/python/ops/math_ops.py:3066: to_int32 (from tensorflow.python.ops.math_ops) is deprecated and will be removed in a future version.\n",
      "Instructions for updating:\n",
      "Use tf.cast instead.\n",
      "Epoch 1/500\n",
      "900/900 [==============================] - 1s 1ms/sample - loss: 1.1223 - acc: 0.3067 - val_loss: 0.9366 - val_acc: 0.5400\n",
      "Epoch 2/500\n",
      "900/900 [==============================] - 0s 281us/sample - loss: 0.9440 - acc: 0.6744 - val_loss: 0.9078 - val_acc: 0.6600\n",
      "Epoch 3/500\n",
      "900/900 [==============================] - 0s 194us/sample - loss: 0.8913 - acc: 0.7933 - val_loss: 0.8934 - val_acc: 0.5900\n",
      "Epoch 4/500\n",
      "900/900 [==============================] - 0s 298us/sample - loss: 0.8535 - acc: 0.8311 - val_loss: 0.8835 - val_acc: 0.5700\n",
      "Epoch 5/500\n",
      "900/900 [==============================] - 0s 237us/sample - loss: 0.8216 - acc: 0.8522 - val_loss: 0.8743 - val_acc: 0.5500\n",
      "Epoch 6/500\n",
      "900/900 [==============================] - 0s 279us/sample - loss: 0.7880 - acc: 0.8633 - val_loss: 0.8600 - val_acc: 0.5500\n",
      "Epoch 7/500\n",
      "900/900 [==============================] - 0s 287us/sample - loss: 0.7428 - acc: 0.8689 - val_loss: 0.8336 - val_acc: 0.5700\n",
      "Epoch 8/500\n",
      "900/900 [==============================] - 0s 225us/sample - loss: 0.6750 - acc: 0.8800 - val_loss: 0.7932 - val_acc: 0.5700\n",
      "Epoch 9/500\n",
      "900/900 [==============================] - 0s 213us/sample - loss: 0.5958 - acc: 0.8811 - val_loss: 0.7552 - val_acc: 0.5600\n",
      "Epoch 10/500\n",
      "900/900 [==============================] - 0s 232us/sample - loss: 0.5319 - acc: 0.8811 - val_loss: 0.7277 - val_acc: 0.5500\n",
      "Epoch 11/500\n",
      "900/900 [==============================] - 0s 180us/sample - loss: 0.4888 - acc: 0.8778 - val_loss: 0.7142 - val_acc: 0.5500\n",
      "Epoch 12/500\n",
      "900/900 [==============================] - 0s 107us/sample - loss: 0.4636 - acc: 0.8778 - val_loss: 0.7072 - val_acc: 0.5500\n",
      "Epoch 13/500\n",
      "900/900 [==============================] - 0s 188us/sample - loss: 0.4477 - acc: 0.8778 - val_loss: 0.7032 - val_acc: 0.5500\n",
      "Epoch 14/500\n",
      "900/900 [==============================] - 0s 131us/sample - loss: 0.4366 - acc: 0.8778 - val_loss: 0.7010 - val_acc: 0.5500\n",
      "Epoch 15/500\n",
      "900/900 [==============================] - 0s 257us/sample - loss: 0.4287 - acc: 0.8778 - val_loss: 0.6990 - val_acc: 0.5500\n",
      "Epoch 16/500\n",
      "900/900 [==============================] - 0s 205us/sample - loss: 0.4229 - acc: 0.8778 - val_loss: 0.6980 - val_acc: 0.5500\n",
      "Epoch 17/500\n",
      "900/900 [==============================] - 0s 220us/sample - loss: 0.4178 - acc: 0.8778 - val_loss: 0.6963 - val_acc: 0.5500\n",
      "Epoch 18/500\n",
      "900/900 [==============================] - 0s 209us/sample - loss: 0.4133 - acc: 0.8778 - val_loss: 0.6959 - val_acc: 0.5500\n",
      "Epoch 19/500\n",
      "900/900 [==============================] - 0s 219us/sample - loss: 0.4088 - acc: 0.8778 - val_loss: 0.6951 - val_acc: 0.5500\n",
      "Epoch 20/500\n",
      "900/900 [==============================] - 0s 230us/sample - loss: 0.4049 - acc: 0.8778 - val_loss: 0.6941 - val_acc: 0.5500\n",
      "Epoch 21/500\n",
      "900/900 [==============================] - 0s 225us/sample - loss: 0.4014 - acc: 0.8778 - val_loss: 0.6922 - val_acc: 0.5500\n",
      "Epoch 22/500\n",
      "900/900 [==============================] - 0s 200us/sample - loss: 0.3984 - acc: 0.8778 - val_loss: 0.6915 - val_acc: 0.5500\n",
      "Epoch 23/500\n",
      "900/900 [==============================] - 0s 182us/sample - loss: 0.3953 - acc: 0.8778 - val_loss: 0.6903 - val_acc: 0.5500\n",
      "Epoch 24/500\n",
      "900/900 [==============================] - 0s 191us/sample - loss: 0.3926 - acc: 0.8778 - val_loss: 0.6879 - val_acc: 0.5500\n",
      "Epoch 25/500\n",
      "900/900 [==============================] - 0s 195us/sample - loss: 0.3900 - acc: 0.8789 - val_loss: 0.6861 - val_acc: 0.5600\n",
      "Epoch 26/500\n",
      "900/900 [==============================] - 0s 174us/sample - loss: 0.3876 - acc: 0.8811 - val_loss: 0.6839 - val_acc: 0.5600\n",
      "Epoch 27/500\n",
      "900/900 [==============================] - 0s 219us/sample - loss: 0.3854 - acc: 0.8811 - val_loss: 0.6817 - val_acc: 0.5700\n",
      "Epoch 28/500\n",
      "900/900 [==============================] - 0s 204us/sample - loss: 0.3833 - acc: 0.8811 - val_loss: 0.6778 - val_acc: 0.5700\n",
      "Epoch 29/500\n",
      "900/900 [==============================] - 0s 197us/sample - loss: 0.3812 - acc: 0.8811 - val_loss: 0.6755 - val_acc: 0.5700\n",
      "Epoch 30/500\n",
      "900/900 [==============================] - 0s 191us/sample - loss: 0.3790 - acc: 0.8822 - val_loss: 0.6723 - val_acc: 0.5700\n",
      "Epoch 31/500\n",
      "900/900 [==============================] - 0s 189us/sample - loss: 0.3770 - acc: 0.8822 - val_loss: 0.6694 - val_acc: 0.5700\n",
      "Epoch 32/500\n",
      "900/900 [==============================] - 0s 163us/sample - loss: 0.3750 - acc: 0.8833 - val_loss: 0.6668 - val_acc: 0.5800\n",
      "Epoch 33/500\n",
      "900/900 [==============================] - 0s 189us/sample - loss: 0.3731 - acc: 0.8844 - val_loss: 0.6638 - val_acc: 0.5800\n",
      "Epoch 34/500\n",
      "900/900 [==============================] - 0s 190us/sample - loss: 0.3713 - acc: 0.8844 - val_loss: 0.6606 - val_acc: 0.5800\n",
      "Epoch 35/500\n",
      "900/900 [==============================] - 0s 139us/sample - loss: 0.3695 - acc: 0.8844 - val_loss: 0.6580 - val_acc: 0.5800\n",
      "Epoch 36/500\n",
      "900/900 [==============================] - 0s 240us/sample - loss: 0.3678 - acc: 0.8844 - val_loss: 0.6539 - val_acc: 0.5800\n",
      "Epoch 37/500\n",
      "900/900 [==============================] - 0s 197us/sample - loss: 0.3659 - acc: 0.8844 - val_loss: 0.6514 - val_acc: 0.5800\n",
      "Epoch 38/500\n",
      "900/900 [==============================] - 0s 98us/sample - loss: 0.3643 - acc: 0.8844 - val_loss: 0.6484 - val_acc: 0.5800\n",
      "Epoch 39/500\n",
      "900/900 [==============================] - 0s 169us/sample - loss: 0.3627 - acc: 0.8844 - val_loss: 0.6458 - val_acc: 0.5800\n",
      "Epoch 40/500\n",
      "900/900 [==============================] - 0s 222us/sample - loss: 0.3612 - acc: 0.8844 - val_loss: 0.6432 - val_acc: 0.5800\n",
      "Epoch 41/500\n",
      "900/900 [==============================] - 0s 219us/sample - loss: 0.3597 - acc: 0.8844 - val_loss: 0.6405 - val_acc: 0.5800\n",
      "Epoch 42/500\n",
      "900/900 [==============================] - 0s 198us/sample - loss: 0.3582 - acc: 0.8844 - val_loss: 0.6379 - val_acc: 0.5800\n",
      "Epoch 43/500\n",
      "900/900 [==============================] - 0s 198us/sample - loss: 0.3567 - acc: 0.8844 - val_loss: 0.6353 - val_acc: 0.5800\n",
      "Epoch 44/500\n",
      "900/900 [==============================] - 0s 128us/sample - loss: 0.3553 - acc: 0.8844 - val_loss: 0.6320 - val_acc: 0.5800\n",
      "Epoch 45/500\n",
      "900/900 [==============================] - 0s 216us/sample - loss: 0.3538 - acc: 0.8844 - val_loss: 0.6292 - val_acc: 0.5800\n",
      "Epoch 46/500\n",
      "900/900 [==============================] - 0s 151us/sample - loss: 0.3524 - acc: 0.8844 - val_loss: 0.6259 - val_acc: 0.5900\n",
      "Epoch 47/500\n",
      "900/900 [==============================] - 0s 156us/sample - loss: 0.3510 - acc: 0.8878 - val_loss: 0.6229 - val_acc: 0.5900\n",
      "Epoch 48/500\n",
      "900/900 [==============================] - 0s 228us/sample - loss: 0.3496 - acc: 0.8878 - val_loss: 0.6200 - val_acc: 0.5900\n",
      "Epoch 49/500\n",
      "900/900 [==============================] - 0s 93us/sample - loss: 0.3482 - acc: 0.8878 - val_loss: 0.6169 - val_acc: 0.5900\n",
      "Epoch 50/500\n",
      "900/900 [==============================] - 0s 94us/sample - loss: 0.3469 - acc: 0.8878 - val_loss: 0.6135 - val_acc: 0.5900\n",
      "Epoch 51/500\n",
      "900/900 [==============================] - 0s 101us/sample - loss: 0.3455 - acc: 0.8889 - val_loss: 0.6089 - val_acc: 0.5900\n",
      "Epoch 52/500\n",
      "900/900 [==============================] - 0s 86us/sample - loss: 0.3440 - acc: 0.8911 - val_loss: 0.6057 - val_acc: 0.5900\n",
      "Epoch 53/500\n",
      "900/900 [==============================] - 0s 85us/sample - loss: 0.3426 - acc: 0.8911 - val_loss: 0.6023 - val_acc: 0.5900\n",
      "Epoch 54/500\n",
      "900/900 [==============================] - 0s 83us/sample - loss: 0.3413 - acc: 0.8922 - val_loss: 0.5998 - val_acc: 0.6000\n",
      "Epoch 55/500\n",
      "900/900 [==============================] - 0s 81us/sample - loss: 0.3400 - acc: 0.8944 - val_loss: 0.5965 - val_acc: 0.6100\n",
      "Epoch 56/500\n",
      "900/900 [==============================] - 0s 85us/sample - loss: 0.3386 - acc: 0.8967 - val_loss: 0.5930 - val_acc: 0.6100\n",
      "Epoch 57/500\n",
      "900/900 [==============================] - 0s 91us/sample - loss: 0.3373 - acc: 0.9000 - val_loss: 0.5897 - val_acc: 0.6100\n",
      "Epoch 58/500\n",
      "900/900 [==============================] - 0s 152us/sample - loss: 0.3360 - acc: 0.9011 - val_loss: 0.5865 - val_acc: 0.6100\n",
      "Epoch 59/500\n",
      "900/900 [==============================] - 0s 99us/sample - loss: 0.3347 - acc: 0.9011 - val_loss: 0.5831 - val_acc: 0.6300\n",
      "Epoch 60/500\n",
      "900/900 [==============================] - 0s 89us/sample - loss: 0.3334 - acc: 0.9000 - val_loss: 0.5796 - val_acc: 0.6200\n",
      "Epoch 61/500\n",
      "900/900 [==============================] - 0s 82us/sample - loss: 0.3321 - acc: 0.9022 - val_loss: 0.5762 - val_acc: 0.6200\n",
      "Epoch 62/500\n",
      "900/900 [==============================] - 0s 82us/sample - loss: 0.3308 - acc: 0.9056 - val_loss: 0.5722 - val_acc: 0.6200\n",
      "Epoch 63/500\n",
      "900/900 [==============================] - 0s 211us/sample - loss: 0.3295 - acc: 0.9089 - val_loss: 0.5690 - val_acc: 0.6200\n",
      "Epoch 64/500\n",
      "900/900 [==============================] - 0s 207us/sample - loss: 0.3282 - acc: 0.9122 - val_loss: 0.5648 - val_acc: 0.6300\n",
      "Epoch 65/500\n",
      "900/900 [==============================] - 0s 145us/sample - loss: 0.3269 - acc: 0.9144 - val_loss: 0.5617 - val_acc: 0.6400\n",
      "Epoch 66/500\n",
      "900/900 [==============================] - 0s 147us/sample - loss: 0.3257 - acc: 0.9189 - val_loss: 0.5587 - val_acc: 0.6500\n",
      "Epoch 67/500\n",
      "900/900 [==============================] - 0s 148us/sample - loss: 0.3246 - acc: 0.9200 - val_loss: 0.5558 - val_acc: 0.6500\n",
      "Epoch 68/500\n",
      "900/900 [==============================] - 0s 144us/sample - loss: 0.3234 - acc: 0.9222 - val_loss: 0.5529 - val_acc: 0.6500\n",
      "Epoch 69/500\n",
      "900/900 [==============================] - 0s 124us/sample - loss: 0.3222 - acc: 0.9256 - val_loss: 0.5492 - val_acc: 0.6800\n",
      "Epoch 70/500\n",
      "900/900 [==============================] - 0s 98us/sample - loss: 0.3210 - acc: 0.9256 - val_loss: 0.5473 - val_acc: 0.6900\n",
      "Epoch 71/500\n",
      "900/900 [==============================] - 0s 97us/sample - loss: 0.3200 - acc: 0.9267 - val_loss: 0.5446 - val_acc: 0.7000\n",
      "Epoch 72/500\n",
      "900/900 [==============================] - 0s 113us/sample - loss: 0.3189 - acc: 0.9233 - val_loss: 0.5420 - val_acc: 0.7000\n",
      "Epoch 73/500\n",
      "900/900 [==============================] - 0s 148us/sample - loss: 0.3178 - acc: 0.9244 - val_loss: 0.5398 - val_acc: 0.7300\n",
      "Epoch 74/500\n",
      "900/900 [==============================] - 0s 145us/sample - loss: 0.3167 - acc: 0.9233 - val_loss: 0.5370 - val_acc: 0.7300\n",
      "Epoch 75/500\n",
      "900/900 [==============================] - 0s 162us/sample - loss: 0.3156 - acc: 0.9244 - val_loss: 0.5336 - val_acc: 0.7300\n",
      "Epoch 76/500\n",
      "900/900 [==============================] - 0s 151us/sample - loss: 0.3145 - acc: 0.9256 - val_loss: 0.5307 - val_acc: 0.7400\n",
      "Epoch 77/500\n",
      "900/900 [==============================] - 0s 155us/sample - loss: 0.3134 - acc: 0.9267 - val_loss: 0.5285 - val_acc: 0.7400\n",
      "Epoch 78/500\n",
      "900/900 [==============================] - 0s 151us/sample - loss: 0.3124 - acc: 0.9289 - val_loss: 0.5257 - val_acc: 0.7400\n",
      "Epoch 79/500\n",
      "900/900 [==============================] - 0s 169us/sample - loss: 0.3113 - acc: 0.9278 - val_loss: 0.5234 - val_acc: 0.7600\n",
      "Epoch 80/500\n",
      "900/900 [==============================] - 0s 152us/sample - loss: 0.3102 - acc: 0.9278 - val_loss: 0.5211 - val_acc: 0.7600\n",
      "Epoch 81/500\n",
      "900/900 [==============================] - 0s 160us/sample - loss: 0.3092 - acc: 0.9289 - val_loss: 0.5185 - val_acc: 0.7600\n",
      "Epoch 82/500\n",
      "900/900 [==============================] - 0s 154us/sample - loss: 0.3081 - acc: 0.9333 - val_loss: 0.5162 - val_acc: 0.7700\n",
      "Epoch 83/500\n",
      "900/900 [==============================] - 0s 149us/sample - loss: 0.3071 - acc: 0.9344 - val_loss: 0.5139 - val_acc: 0.7700\n",
      "Epoch 84/500\n",
      "900/900 [==============================] - 0s 145us/sample - loss: 0.3061 - acc: 0.9344 - val_loss: 0.5116 - val_acc: 0.7700\n",
      "Epoch 85/500\n",
      "900/900 [==============================] - 0s 131us/sample - loss: 0.3051 - acc: 0.9344 - val_loss: 0.5093 - val_acc: 0.7700\n",
      "Epoch 86/500\n",
      "900/900 [==============================] - 0s 149us/sample - loss: 0.3041 - acc: 0.9356 - val_loss: 0.5061 - val_acc: 0.7800\n",
      "Epoch 87/500\n",
      "900/900 [==============================] - 0s 130us/sample - loss: 0.3030 - acc: 0.9378 - val_loss: 0.5043 - val_acc: 0.7800\n",
      "Epoch 88/500\n",
      "900/900 [==============================] - 0s 143us/sample - loss: 0.3021 - acc: 0.9378 - val_loss: 0.5021 - val_acc: 0.7800\n",
      "Epoch 89/500\n",
      "900/900 [==============================] - 0s 170us/sample - loss: 0.3011 - acc: 0.9389 - val_loss: 0.5000 - val_acc: 0.7800\n",
      "Epoch 90/500\n",
      "900/900 [==============================] - 0s 246us/sample - loss: 0.3001 - acc: 0.9378 - val_loss: 0.4975 - val_acc: 0.7800\n",
      "Epoch 91/500\n",
      "900/900 [==============================] - 0s 342us/sample - loss: 0.2991 - acc: 0.9378 - val_loss: 0.4948 - val_acc: 0.7800\n",
      "Epoch 92/500\n",
      "900/900 [==============================] - 0s 255us/sample - loss: 0.2981 - acc: 0.9389 - val_loss: 0.4929 - val_acc: 0.7800\n",
      "Epoch 93/500\n",
      "900/900 [==============================] - 0s 167us/sample - loss: 0.2971 - acc: 0.9389 - val_loss: 0.4911 - val_acc: 0.7800\n",
      "Epoch 94/500\n",
      "900/900 [==============================] - 0s 185us/sample - loss: 0.2962 - acc: 0.9389 - val_loss: 0.4879 - val_acc: 0.7800\n",
      "Epoch 95/500\n",
      "900/900 [==============================] - 0s 153us/sample - loss: 0.2951 - acc: 0.9400 - val_loss: 0.4854 - val_acc: 0.7900\n",
      "Epoch 96/500\n",
      "900/900 [==============================] - 0s 165us/sample - loss: 0.2942 - acc: 0.9400 - val_loss: 0.4826 - val_acc: 0.8100\n",
      "Epoch 97/500\n",
      "900/900 [==============================] - 0s 130us/sample - loss: 0.2932 - acc: 0.9411 - val_loss: 0.4812 - val_acc: 0.8100\n",
      "Epoch 98/500\n",
      "900/900 [==============================] - 0s 160us/sample - loss: 0.2922 - acc: 0.9411 - val_loss: 0.4793 - val_acc: 0.8100\n",
      "Epoch 99/500\n",
      "900/900 [==============================] - 0s 147us/sample - loss: 0.2913 - acc: 0.9411 - val_loss: 0.4772 - val_acc: 0.8100\n",
      "Epoch 100/500\n",
      "900/900 [==============================] - 0s 138us/sample - loss: 0.2904 - acc: 0.9444 - val_loss: 0.4752 - val_acc: 0.8100\n",
      "Epoch 101/500\n",
      "900/900 [==============================] - 0s 160us/sample - loss: 0.2895 - acc: 0.9444 - val_loss: 0.4736 - val_acc: 0.8200\n",
      "Epoch 102/500\n",
      "900/900 [==============================] - 0s 152us/sample - loss: 0.2885 - acc: 0.9456 - val_loss: 0.4719 - val_acc: 0.8200\n",
      "Epoch 103/500\n",
      "900/900 [==============================] - 0s 124us/sample - loss: 0.2876 - acc: 0.9444 - val_loss: 0.4700 - val_acc: 0.8400\n",
      "Epoch 104/500\n",
      "900/900 [==============================] - 0s 156us/sample - loss: 0.2866 - acc: 0.9456 - val_loss: 0.4671 - val_acc: 0.8500\n",
      "Epoch 105/500\n",
      "900/900 [==============================] - 0s 167us/sample - loss: 0.2856 - acc: 0.9456 - val_loss: 0.4654 - val_acc: 0.8500\n",
      "Epoch 106/500\n",
      "900/900 [==============================] - 0s 141us/sample - loss: 0.2847 - acc: 0.9456 - val_loss: 0.4634 - val_acc: 0.8500\n",
      "Epoch 107/500\n",
      "900/900 [==============================] - 0s 155us/sample - loss: 0.2838 - acc: 0.9478 - val_loss: 0.4617 - val_acc: 0.8600\n",
      "Epoch 108/500\n",
      "900/900 [==============================] - 0s 157us/sample - loss: 0.2829 - acc: 0.9478 - val_loss: 0.4603 - val_acc: 0.8600\n",
      "Epoch 109/500\n",
      "900/900 [==============================] - 0s 157us/sample - loss: 0.2820 - acc: 0.9489 - val_loss: 0.4577 - val_acc: 0.8600\n",
      "Epoch 110/500\n",
      "900/900 [==============================] - 0s 157us/sample - loss: 0.2810 - acc: 0.9489 - val_loss: 0.4557 - val_acc: 0.8600\n",
      "Epoch 111/500\n",
      "900/900 [==============================] - 0s 155us/sample - loss: 0.2801 - acc: 0.9489 - val_loss: 0.4538 - val_acc: 0.8600\n",
      "Epoch 112/500\n",
      "900/900 [==============================] - 0s 141us/sample - loss: 0.2792 - acc: 0.9511 - val_loss: 0.4500 - val_acc: 0.8800\n",
      "Epoch 113/500\n",
      "900/900 [==============================] - 0s 140us/sample - loss: 0.2783 - acc: 0.9500 - val_loss: 0.4481 - val_acc: 0.8800\n",
      "Epoch 114/500\n",
      "900/900 [==============================] - 0s 155us/sample - loss: 0.2774 - acc: 0.9478 - val_loss: 0.4465 - val_acc: 0.8800\n",
      "Epoch 115/500\n",
      "900/900 [==============================] - 0s 166us/sample - loss: 0.2765 - acc: 0.9489 - val_loss: 0.4453 - val_acc: 0.8800\n",
      "Epoch 116/500\n",
      "900/900 [==============================] - 0s 180us/sample - loss: 0.2756 - acc: 0.9489 - val_loss: 0.4438 - val_acc: 0.8800\n",
      "Epoch 117/500\n"
     ]
    },
    {
     "name": "stdout",
     "output_type": "stream",
     "text": [
      "900/900 [==============================] - 0s 130us/sample - loss: 0.2747 - acc: 0.9489 - val_loss: 0.4422 - val_acc: 0.8800\n",
      "Epoch 118/500\n",
      "900/900 [==============================] - 0s 145us/sample - loss: 0.2739 - acc: 0.9489 - val_loss: 0.4409 - val_acc: 0.8800\n",
      "Epoch 119/500\n",
      "900/900 [==============================] - 0s 146us/sample - loss: 0.2730 - acc: 0.9489 - val_loss: 0.4392 - val_acc: 0.8800\n",
      "Epoch 120/500\n",
      "900/900 [==============================] - 0s 124us/sample - loss: 0.2722 - acc: 0.9489 - val_loss: 0.4372 - val_acc: 0.8800\n",
      "Epoch 121/500\n",
      "900/900 [==============================] - 0s 143us/sample - loss: 0.2713 - acc: 0.9489 - val_loss: 0.4356 - val_acc: 0.8800\n",
      "Epoch 122/500\n",
      "900/900 [==============================] - 0s 128us/sample - loss: 0.2705 - acc: 0.9500 - val_loss: 0.4333 - val_acc: 0.8800\n",
      "Epoch 123/500\n",
      "900/900 [==============================] - 0s 128us/sample - loss: 0.2696 - acc: 0.9511 - val_loss: 0.4329 - val_acc: 0.8800\n",
      "Epoch 124/500\n",
      "900/900 [==============================] - 0s 121us/sample - loss: 0.2688 - acc: 0.9511 - val_loss: 0.4310 - val_acc: 0.8900\n",
      "Epoch 125/500\n",
      "900/900 [==============================] - 0s 133us/sample - loss: 0.2680 - acc: 0.9511 - val_loss: 0.4297 - val_acc: 0.8900\n",
      "Epoch 126/500\n",
      "900/900 [==============================] - 0s 103us/sample - loss: 0.2672 - acc: 0.9511 - val_loss: 0.4290 - val_acc: 0.8900\n",
      "Epoch 127/500\n",
      "900/900 [==============================] - 0s 112us/sample - loss: 0.2663 - acc: 0.9511 - val_loss: 0.4271 - val_acc: 0.8900\n",
      "Epoch 128/500\n",
      "900/900 [==============================] - 0s 128us/sample - loss: 0.2655 - acc: 0.9511 - val_loss: 0.4254 - val_acc: 0.8900\n",
      "Epoch 129/500\n",
      "900/900 [==============================] - 0s 139us/sample - loss: 0.2647 - acc: 0.9511 - val_loss: 0.4238 - val_acc: 0.8900\n",
      "Epoch 130/500\n",
      "900/900 [==============================] - 0s 135us/sample - loss: 0.2639 - acc: 0.9522 - val_loss: 0.4223 - val_acc: 0.8900\n",
      "Epoch 131/500\n",
      "900/900 [==============================] - 0s 122us/sample - loss: 0.2631 - acc: 0.9522 - val_loss: 0.4196 - val_acc: 0.8900\n",
      "Epoch 132/500\n",
      "900/900 [==============================] - 0s 127us/sample - loss: 0.2623 - acc: 0.9522 - val_loss: 0.4183 - val_acc: 0.8900\n",
      "Epoch 133/500\n",
      "900/900 [==============================] - 0s 129us/sample - loss: 0.2615 - acc: 0.9522 - val_loss: 0.4172 - val_acc: 0.8900\n",
      "Epoch 134/500\n",
      "900/900 [==============================] - 0s 132us/sample - loss: 0.2607 - acc: 0.9522 - val_loss: 0.4161 - val_acc: 0.8900\n",
      "Epoch 135/500\n",
      "900/900 [==============================] - 0s 125us/sample - loss: 0.2599 - acc: 0.9522 - val_loss: 0.4144 - val_acc: 0.8900\n",
      "Epoch 136/500\n",
      "900/900 [==============================] - 0s 117us/sample - loss: 0.2591 - acc: 0.9522 - val_loss: 0.4130 - val_acc: 0.8900\n",
      "Epoch 137/500\n",
      "900/900 [==============================] - 0s 121us/sample - loss: 0.2583 - acc: 0.9522 - val_loss: 0.4099 - val_acc: 0.9000\n",
      "Epoch 138/500\n",
      "900/900 [==============================] - 0s 123us/sample - loss: 0.2575 - acc: 0.9522 - val_loss: 0.4091 - val_acc: 0.9000\n",
      "Epoch 139/500\n",
      "900/900 [==============================] - 0s 152us/sample - loss: 0.2568 - acc: 0.9522 - val_loss: 0.4076 - val_acc: 0.9000\n",
      "Epoch 140/500\n",
      "900/900 [==============================] - 0s 110us/sample - loss: 0.2560 - acc: 0.9533 - val_loss: 0.4064 - val_acc: 0.9000\n",
      "Epoch 141/500\n",
      "900/900 [==============================] - 0s 120us/sample - loss: 0.2552 - acc: 0.9533 - val_loss: 0.4050 - val_acc: 0.9000\n",
      "Epoch 142/500\n",
      "900/900 [==============================] - 0s 131us/sample - loss: 0.2545 - acc: 0.9533 - val_loss: 0.4035 - val_acc: 0.9000\n",
      "Epoch 143/500\n",
      "900/900 [==============================] - 0s 107us/sample - loss: 0.2537 - acc: 0.9533 - val_loss: 0.4031 - val_acc: 0.9000\n",
      "Epoch 144/500\n",
      "900/900 [==============================] - 0s 120us/sample - loss: 0.2529 - acc: 0.9533 - val_loss: 0.4028 - val_acc: 0.9000\n",
      "Epoch 145/500\n",
      "900/900 [==============================] - 0s 123us/sample - loss: 0.2522 - acc: 0.9533 - val_loss: 0.4016 - val_acc: 0.9000\n",
      "Epoch 146/500\n",
      "900/900 [==============================] - 0s 131us/sample - loss: 0.2514 - acc: 0.9533 - val_loss: 0.4006 - val_acc: 0.9000\n",
      "Epoch 147/500\n",
      "900/900 [==============================] - 0s 150us/sample - loss: 0.2506 - acc: 0.9544 - val_loss: 0.3986 - val_acc: 0.9000\n",
      "Epoch 148/500\n",
      "900/900 [==============================] - 0s 142us/sample - loss: 0.2498 - acc: 0.9533 - val_loss: 0.3976 - val_acc: 0.9000\n",
      "Epoch 149/500\n",
      "900/900 [==============================] - 0s 142us/sample - loss: 0.2490 - acc: 0.9544 - val_loss: 0.3963 - val_acc: 0.9000\n",
      "Epoch 150/500\n",
      "900/900 [==============================] - 0s 143us/sample - loss: 0.2482 - acc: 0.9556 - val_loss: 0.3947 - val_acc: 0.9000\n",
      "Epoch 151/500\n",
      "900/900 [==============================] - 0s 167us/sample - loss: 0.2474 - acc: 0.9578 - val_loss: 0.3944 - val_acc: 0.9000\n",
      "Epoch 152/500\n",
      "900/900 [==============================] - 0s 137us/sample - loss: 0.2466 - acc: 0.9589 - val_loss: 0.3941 - val_acc: 0.9000\n",
      "Epoch 153/500\n",
      "900/900 [==============================] - 0s 142us/sample - loss: 0.2458 - acc: 0.9589 - val_loss: 0.3919 - val_acc: 0.9000\n",
      "Epoch 154/500\n",
      "900/900 [==============================] - 0s 132us/sample - loss: 0.2450 - acc: 0.9589 - val_loss: 0.3908 - val_acc: 0.9000\n",
      "Epoch 155/500\n",
      "900/900 [==============================] - 0s 157us/sample - loss: 0.2442 - acc: 0.9589 - val_loss: 0.3896 - val_acc: 0.9000\n",
      "Epoch 156/500\n",
      "900/900 [==============================] - 0s 165us/sample - loss: 0.2435 - acc: 0.9589 - val_loss: 0.3884 - val_acc: 0.9000\n",
      "Epoch 157/500\n",
      "900/900 [==============================] - 0s 184us/sample - loss: 0.2427 - acc: 0.9589 - val_loss: 0.3873 - val_acc: 0.9000\n",
      "Epoch 158/500\n",
      "900/900 [==============================] - 0s 131us/sample - loss: 0.2419 - acc: 0.9589 - val_loss: 0.3852 - val_acc: 0.9000\n",
      "Epoch 159/500\n",
      "900/900 [==============================] - 0s 123us/sample - loss: 0.2411 - acc: 0.9600 - val_loss: 0.3848 - val_acc: 0.9000\n",
      "Epoch 160/500\n",
      "900/900 [==============================] - 0s 126us/sample - loss: 0.2404 - acc: 0.9600 - val_loss: 0.3836 - val_acc: 0.9100\n",
      "Epoch 161/500\n",
      "900/900 [==============================] - 0s 146us/sample - loss: 0.2396 - acc: 0.9600 - val_loss: 0.3824 - val_acc: 0.9100\n",
      "Epoch 162/500\n",
      "900/900 [==============================] - 0s 117us/sample - loss: 0.2389 - acc: 0.9600 - val_loss: 0.3818 - val_acc: 0.9100\n",
      "Epoch 163/500\n",
      "900/900 [==============================] - 0s 117us/sample - loss: 0.2381 - acc: 0.9600 - val_loss: 0.3815 - val_acc: 0.9100\n",
      "Epoch 164/500\n",
      "900/900 [==============================] - 0s 114us/sample - loss: 0.2373 - acc: 0.9600 - val_loss: 0.3795 - val_acc: 0.9100\n",
      "Epoch 165/500\n",
      "900/900 [==============================] - 0s 147us/sample - loss: 0.2365 - acc: 0.9600 - val_loss: 0.3790 - val_acc: 0.9100\n",
      "Epoch 166/500\n",
      "900/900 [==============================] - 0s 116us/sample - loss: 0.2357 - acc: 0.9600 - val_loss: 0.3786 - val_acc: 0.9100\n",
      "Epoch 167/500\n",
      "900/900 [==============================] - 0s 147us/sample - loss: 0.2350 - acc: 0.9600 - val_loss: 0.3771 - val_acc: 0.9100\n",
      "Epoch 168/500\n",
      "900/900 [==============================] - 0s 135us/sample - loss: 0.2343 - acc: 0.9600 - val_loss: 0.3760 - val_acc: 0.9100\n",
      "Epoch 169/500\n",
      "900/900 [==============================] - 0s 126us/sample - loss: 0.2335 - acc: 0.9600 - val_loss: 0.3748 - val_acc: 0.9200\n",
      "Epoch 170/500\n",
      "900/900 [==============================] - 0s 129us/sample - loss: 0.2328 - acc: 0.9600 - val_loss: 0.3736 - val_acc: 0.9200\n",
      "Epoch 171/500\n",
      "900/900 [==============================] - 0s 123us/sample - loss: 0.2321 - acc: 0.9600 - val_loss: 0.3725 - val_acc: 0.9200\n",
      "Epoch 172/500\n",
      "900/900 [==============================] - 0s 126us/sample - loss: 0.2313 - acc: 0.9600 - val_loss: 0.3697 - val_acc: 0.9200\n",
      "Epoch 173/500\n",
      "900/900 [==============================] - 0s 130us/sample - loss: 0.2305 - acc: 0.9611 - val_loss: 0.3689 - val_acc: 0.9200\n",
      "Epoch 174/500\n",
      "900/900 [==============================] - 0s 115us/sample - loss: 0.2297 - acc: 0.9611 - val_loss: 0.3679 - val_acc: 0.9200\n",
      "Epoch 175/500\n",
      "900/900 [==============================] - 0s 120us/sample - loss: 0.2290 - acc: 0.9611 - val_loss: 0.3667 - val_acc: 0.9200\n",
      "Epoch 176/500\n"
     ]
    },
    {
     "name": "stdout",
     "output_type": "stream",
     "text": [
      "900/900 [==============================] - 0s 118us/sample - loss: 0.2282 - acc: 0.9667 - val_loss: 0.3652 - val_acc: 0.9200\n",
      "Epoch 177/500\n",
      "900/900 [==============================] - 0s 117us/sample - loss: 0.2275 - acc: 0.9667 - val_loss: 0.3640 - val_acc: 0.9200\n",
      "Epoch 178/500\n",
      "900/900 [==============================] - 0s 129us/sample - loss: 0.2267 - acc: 0.9667 - val_loss: 0.3619 - val_acc: 0.9200\n",
      "Epoch 179/500\n",
      "900/900 [==============================] - 0s 112us/sample - loss: 0.2260 - acc: 0.9667 - val_loss: 0.3617 - val_acc: 0.9200\n",
      "Epoch 180/500\n",
      "900/900 [==============================] - 0s 112us/sample - loss: 0.2252 - acc: 0.9667 - val_loss: 0.3597 - val_acc: 0.9200\n",
      "Epoch 181/500\n",
      "900/900 [==============================] - 0s 115us/sample - loss: 0.2245 - acc: 0.9678 - val_loss: 0.3587 - val_acc: 0.9200\n",
      "Epoch 182/500\n",
      "900/900 [==============================] - 0s 118us/sample - loss: 0.2238 - acc: 0.9667 - val_loss: 0.3575 - val_acc: 0.9200\n",
      "Epoch 183/500\n",
      "900/900 [==============================] - 0s 129us/sample - loss: 0.2230 - acc: 0.9678 - val_loss: 0.3562 - val_acc: 0.9200\n",
      "Epoch 184/500\n",
      "900/900 [==============================] - 0s 122us/sample - loss: 0.2223 - acc: 0.9678 - val_loss: 0.3550 - val_acc: 0.9200\n",
      "Epoch 185/500\n",
      "900/900 [==============================] - 0s 111us/sample - loss: 0.2216 - acc: 0.9678 - val_loss: 0.3539 - val_acc: 0.9200\n",
      "Epoch 186/500\n",
      "900/900 [==============================] - 0s 127us/sample - loss: 0.2208 - acc: 0.9678 - val_loss: 0.3529 - val_acc: 0.9200\n",
      "Epoch 187/500\n",
      "900/900 [==============================] - 0s 124us/sample - loss: 0.2202 - acc: 0.9678 - val_loss: 0.3520 - val_acc: 0.9200\n",
      "Epoch 188/500\n",
      "900/900 [==============================] - 0s 110us/sample - loss: 0.2195 - acc: 0.9678 - val_loss: 0.3512 - val_acc: 0.9200\n",
      "Epoch 189/500\n",
      "900/900 [==============================] - 0s 125us/sample - loss: 0.2188 - acc: 0.9678 - val_loss: 0.3503 - val_acc: 0.9200\n",
      "Epoch 190/500\n",
      "900/900 [==============================] - 0s 124us/sample - loss: 0.2181 - acc: 0.9678 - val_loss: 0.3496 - val_acc: 0.9200\n",
      "Epoch 191/500\n",
      "900/900 [==============================] - 0s 113us/sample - loss: 0.2174 - acc: 0.9678 - val_loss: 0.3486 - val_acc: 0.9200\n",
      "Epoch 192/500\n",
      "900/900 [==============================] - 0s 108us/sample - loss: 0.2167 - acc: 0.9678 - val_loss: 0.3474 - val_acc: 0.9200\n",
      "Epoch 193/500\n",
      "900/900 [==============================] - 0s 81us/sample - loss: 0.2161 - acc: 0.9678 - val_loss: 0.3463 - val_acc: 0.9200\n",
      "Epoch 194/500\n",
      "900/900 [==============================] - 0s 81us/sample - loss: 0.2154 - acc: 0.9689 - val_loss: 0.3446 - val_acc: 0.9200\n",
      "Epoch 195/500\n",
      "900/900 [==============================] - 0s 80us/sample - loss: 0.2147 - acc: 0.9689 - val_loss: 0.3411 - val_acc: 0.9200\n",
      "Epoch 196/500\n",
      "900/900 [==============================] - 0s 97us/sample - loss: 0.2140 - acc: 0.9700 - val_loss: 0.3426 - val_acc: 0.9200\n",
      "Epoch 197/500\n",
      "900/900 [==============================] - 0s 114us/sample - loss: 0.2134 - acc: 0.9689 - val_loss: 0.3426 - val_acc: 0.9200\n",
      "Epoch 198/500\n",
      "900/900 [==============================] - 0s 125us/sample - loss: 0.2127 - acc: 0.9689 - val_loss: 0.3416 - val_acc: 0.9200\n",
      "Epoch 199/500\n",
      "900/900 [==============================] - 0s 109us/sample - loss: 0.2120 - acc: 0.9689 - val_loss: 0.3425 - val_acc: 0.9200\n",
      "Epoch 200/500\n",
      "900/900 [==============================] - 0s 114us/sample - loss: 0.2114 - acc: 0.9678 - val_loss: 0.3406 - val_acc: 0.9200\n",
      "Epoch 201/500\n",
      "900/900 [==============================] - 0s 112us/sample - loss: 0.2107 - acc: 0.9678 - val_loss: 0.3397 - val_acc: 0.9200\n",
      "Epoch 202/500\n",
      "900/900 [==============================] - 0s 125us/sample - loss: 0.2101 - acc: 0.9678 - val_loss: 0.3380 - val_acc: 0.9200\n",
      "Epoch 203/500\n",
      "900/900 [==============================] - 0s 127us/sample - loss: 0.2094 - acc: 0.9678 - val_loss: 0.3375 - val_acc: 0.9200\n",
      "Epoch 204/500\n",
      "900/900 [==============================] - 0s 116us/sample - loss: 0.2088 - acc: 0.9678 - val_loss: 0.3368 - val_acc: 0.9200\n",
      "Epoch 205/500\n",
      "900/900 [==============================] - 0s 121us/sample - loss: 0.2081 - acc: 0.9678 - val_loss: 0.3363 - val_acc: 0.9200\n",
      "Epoch 206/500\n",
      "900/900 [==============================] - 0s 126us/sample - loss: 0.2075 - acc: 0.9678 - val_loss: 0.3349 - val_acc: 0.9200\n",
      "Epoch 207/500\n",
      "900/900 [==============================] - 0s 113us/sample - loss: 0.2069 - acc: 0.9700 - val_loss: 0.3350 - val_acc: 0.9200\n",
      "Epoch 208/500\n",
      "900/900 [==============================] - 0s 130us/sample - loss: 0.2063 - acc: 0.9700 - val_loss: 0.3342 - val_acc: 0.9200\n",
      "Epoch 209/500\n",
      "900/900 [==============================] - 0s 127us/sample - loss: 0.2057 - acc: 0.9700 - val_loss: 0.3333 - val_acc: 0.9200\n",
      "Epoch 210/500\n",
      "900/900 [==============================] - 0s 128us/sample - loss: 0.2051 - acc: 0.9700 - val_loss: 0.3328 - val_acc: 0.9200\n",
      "Epoch 211/500\n",
      "900/900 [==============================] - 0s 116us/sample - loss: 0.2045 - acc: 0.9689 - val_loss: 0.3321 - val_acc: 0.9200\n",
      "Epoch 212/500\n",
      "900/900 [==============================] - 0s 83us/sample - loss: 0.2039 - acc: 0.9700 - val_loss: 0.3312 - val_acc: 0.9200\n",
      "Epoch 213/500\n",
      "900/900 [==============================] - 0s 80us/sample - loss: 0.2033 - acc: 0.9700 - val_loss: 0.3301 - val_acc: 0.9200\n",
      "Epoch 214/500\n",
      "900/900 [==============================] - 0s 82us/sample - loss: 0.2027 - acc: 0.9700 - val_loss: 0.3296 - val_acc: 0.9200\n",
      "Epoch 215/500\n",
      "900/900 [==============================] - 0s 84us/sample - loss: 0.2021 - acc: 0.9700 - val_loss: 0.3286 - val_acc: 0.9200\n",
      "Epoch 216/500\n",
      "900/900 [==============================] - 0s 121us/sample - loss: 0.2015 - acc: 0.9700 - val_loss: 0.3291 - val_acc: 0.9200\n",
      "Epoch 217/500\n",
      "900/900 [==============================] - 0s 129us/sample - loss: 0.2010 - acc: 0.9700 - val_loss: 0.3281 - val_acc: 0.9200\n",
      "Epoch 218/500\n",
      "900/900 [==============================] - 0s 127us/sample - loss: 0.2004 - acc: 0.9722 - val_loss: 0.3272 - val_acc: 0.9200\n",
      "Epoch 219/500\n",
      "900/900 [==============================] - 0s 127us/sample - loss: 0.1998 - acc: 0.9733 - val_loss: 0.3261 - val_acc: 0.9200\n",
      "Epoch 220/500\n",
      "900/900 [==============================] - 0s 127us/sample - loss: 0.1992 - acc: 0.9744 - val_loss: 0.3251 - val_acc: 0.9200\n",
      "Epoch 221/500\n",
      "900/900 [==============================] - 0s 129us/sample - loss: 0.1987 - acc: 0.9744 - val_loss: 0.3235 - val_acc: 0.9200\n",
      "Epoch 222/500\n",
      "900/900 [==============================] - 0s 126us/sample - loss: 0.1981 - acc: 0.9744 - val_loss: 0.3228 - val_acc: 0.9200\n",
      "Epoch 223/500\n",
      "900/900 [==============================] - 0s 112us/sample - loss: 0.1976 - acc: 0.9744 - val_loss: 0.3222 - val_acc: 0.9200\n",
      "Epoch 224/500\n",
      "900/900 [==============================] - 0s 128us/sample - loss: 0.1970 - acc: 0.9733 - val_loss: 0.3215 - val_acc: 0.9200\n",
      "Epoch 225/500\n",
      "900/900 [==============================] - 0s 128us/sample - loss: 0.1964 - acc: 0.9733 - val_loss: 0.3216 - val_acc: 0.9200\n",
      "Epoch 226/500\n",
      "900/900 [==============================] - 0s 129us/sample - loss: 0.1959 - acc: 0.9744 - val_loss: 0.3205 - val_acc: 0.9200\n",
      "Epoch 227/500\n",
      "900/900 [==============================] - 0s 130us/sample - loss: 0.1954 - acc: 0.9744 - val_loss: 0.3209 - val_acc: 0.9200\n",
      "Epoch 228/500\n",
      "900/900 [==============================] - 0s 115us/sample - loss: 0.1948 - acc: 0.9744 - val_loss: 0.3196 - val_acc: 0.9200\n",
      "Epoch 229/500\n",
      "900/900 [==============================] - 0s 131us/sample - loss: 0.1943 - acc: 0.9733 - val_loss: 0.3186 - val_acc: 0.9200\n",
      "Epoch 230/500\n",
      "900/900 [==============================] - 0s 101us/sample - loss: 0.1937 - acc: 0.9744 - val_loss: 0.3173 - val_acc: 0.9200\n",
      "Epoch 231/500\n",
      "900/900 [==============================] - 0s 91us/sample - loss: 0.1931 - acc: 0.9733 - val_loss: 0.3166 - val_acc: 0.9200\n",
      "Epoch 232/500\n",
      "900/900 [==============================] - 0s 83us/sample - loss: 0.1926 - acc: 0.9733 - val_loss: 0.3159 - val_acc: 0.9200\n",
      "Epoch 233/500\n",
      "900/900 [==============================] - 0s 81us/sample - loss: 0.1921 - acc: 0.9733 - val_loss: 0.3154 - val_acc: 0.9300\n",
      "Epoch 234/500\n",
      "900/900 [==============================] - 0s 111us/sample - loss: 0.1915 - acc: 0.9733 - val_loss: 0.3146 - val_acc: 0.9300\n",
      "Epoch 235/500\n",
      "900/900 [==============================] - 0s 118us/sample - loss: 0.1910 - acc: 0.9744 - val_loss: 0.3146 - val_acc: 0.9300\n",
      "Epoch 236/500\n",
      "900/900 [==============================] - 0s 128us/sample - loss: 0.1905 - acc: 0.9744 - val_loss: 0.3156 - val_acc: 0.9200\n",
      "Epoch 237/500\n",
      "900/900 [==============================] - 0s 128us/sample - loss: 0.1900 - acc: 0.9744 - val_loss: 0.3145 - val_acc: 0.9200\n",
      "Epoch 238/500\n",
      "900/900 [==============================] - 0s 128us/sample - loss: 0.1895 - acc: 0.9744 - val_loss: 0.3138 - val_acc: 0.9200\n",
      "Epoch 239/500\n",
      "900/900 [==============================] - 0s 113us/sample - loss: 0.1890 - acc: 0.9744 - val_loss: 0.3124 - val_acc: 0.9300\n",
      "Epoch 240/500\n",
      "900/900 [==============================] - 0s 145us/sample - loss: 0.1885 - acc: 0.9744 - val_loss: 0.3121 - val_acc: 0.9200\n",
      "Epoch 241/500\n",
      "900/900 [==============================] - 0s 129us/sample - loss: 0.1879 - acc: 0.9744 - val_loss: 0.3095 - val_acc: 0.9300\n",
      "Epoch 242/500\n",
      "900/900 [==============================] - 0s 130us/sample - loss: 0.1874 - acc: 0.9744 - val_loss: 0.3083 - val_acc: 0.9300\n",
      "Epoch 243/500\n",
      "900/900 [==============================] - 0s 115us/sample - loss: 0.1869 - acc: 0.9744 - val_loss: 0.3081 - val_acc: 0.9300\n",
      "Epoch 244/500\n",
      "900/900 [==============================] - 0s 134us/sample - loss: 0.1864 - acc: 0.9744 - val_loss: 0.3085 - val_acc: 0.9300\n",
      "Epoch 245/500\n",
      "900/900 [==============================] - 0s 122us/sample - loss: 0.1859 - acc: 0.9744 - val_loss: 0.3084 - val_acc: 0.9300\n",
      "Epoch 246/500\n",
      "900/900 [==============================] - 0s 134us/sample - loss: 0.1854 - acc: 0.9744 - val_loss: 0.3046 - val_acc: 0.9300\n",
      "Epoch 247/500\n",
      "900/900 [==============================] - 0s 118us/sample - loss: 0.1849 - acc: 0.9722 - val_loss: 0.3047 - val_acc: 0.9300\n",
      "Epoch 248/500\n",
      "900/900 [==============================] - 0s 115us/sample - loss: 0.1844 - acc: 0.9722 - val_loss: 0.3045 - val_acc: 0.9300\n",
      "Epoch 249/500\n",
      "900/900 [==============================] - 0s 83us/sample - loss: 0.1839 - acc: 0.9722 - val_loss: 0.3015 - val_acc: 0.9300\n",
      "Epoch 250/500\n",
      "900/900 [==============================] - 0s 84us/sample - loss: 0.1834 - acc: 0.9722 - val_loss: 0.3017 - val_acc: 0.9300\n",
      "Epoch 251/500\n",
      "900/900 [==============================] - 0s 80us/sample - loss: 0.1830 - acc: 0.9722 - val_loss: 0.3018 - val_acc: 0.9300\n",
      "Epoch 252/500\n",
      "900/900 [==============================] - 0s 91us/sample - loss: 0.1825 - acc: 0.9722 - val_loss: 0.3011 - val_acc: 0.9300\n",
      "Epoch 253/500\n",
      "900/900 [==============================] - 0s 131us/sample - loss: 0.1820 - acc: 0.9722 - val_loss: 0.2999 - val_acc: 0.9300\n",
      "Epoch 254/500\n",
      "900/900 [==============================] - 0s 128us/sample - loss: 0.1816 - acc: 0.9722 - val_loss: 0.3003 - val_acc: 0.9300\n",
      "Epoch 255/500\n",
      "900/900 [==============================] - 0s 126us/sample - loss: 0.1811 - acc: 0.9722 - val_loss: 0.3001 - val_acc: 0.9300\n",
      "Epoch 256/500\n",
      "900/900 [==============================] - 0s 142us/sample - loss: 0.1806 - acc: 0.9722 - val_loss: 0.3000 - val_acc: 0.9300\n",
      "Epoch 257/500\n",
      "900/900 [==============================] - 0s 133us/sample - loss: 0.1801 - acc: 0.9733 - val_loss: 0.3002 - val_acc: 0.9300\n",
      "Epoch 258/500\n",
      "900/900 [==============================] - 0s 131us/sample - loss: 0.1796 - acc: 0.9722 - val_loss: 0.3001 - val_acc: 0.9300\n",
      "Epoch 259/500\n",
      "900/900 [==============================] - 0s 138us/sample - loss: 0.1792 - acc: 0.9722 - val_loss: 0.3000 - val_acc: 0.9300\n",
      "Epoch 260/500\n",
      "900/900 [==============================] - 0s 151us/sample - loss: 0.1787 - acc: 0.9733 - val_loss: 0.2998 - val_acc: 0.9300\n",
      "Epoch 261/500\n",
      "900/900 [==============================] - 0s 135us/sample - loss: 0.1783 - acc: 0.9744 - val_loss: 0.3003 - val_acc: 0.9300\n",
      "Epoch 262/500\n",
      "900/900 [==============================] - 0s 129us/sample - loss: 0.1778 - acc: 0.9733 - val_loss: 0.3000 - val_acc: 0.9300\n",
      "Epoch 263/500\n",
      "900/900 [==============================] - 0s 129us/sample - loss: 0.1774 - acc: 0.9722 - val_loss: 0.3009 - val_acc: 0.9200\n",
      "Epoch 264/500\n",
      "900/900 [==============================] - 0s 126us/sample - loss: 0.1770 - acc: 0.9744 - val_loss: 0.3005 - val_acc: 0.9200\n",
      "Epoch 265/500\n",
      "900/900 [==============================] - 0s 113us/sample - loss: 0.1765 - acc: 0.9744 - val_loss: 0.3000 - val_acc: 0.9200\n",
      "Epoch 266/500\n",
      "900/900 [==============================] - 0s 119us/sample - loss: 0.1761 - acc: 0.9744 - val_loss: 0.2995 - val_acc: 0.9200\n",
      "Epoch 267/500\n",
      "900/900 [==============================] - 0s 123us/sample - loss: 0.1756 - acc: 0.9744 - val_loss: 0.2990 - val_acc: 0.9200\n",
      "Epoch 268/500\n",
      "900/900 [==============================] - 0s 139us/sample - loss: 0.1752 - acc: 0.9744 - val_loss: 0.2988 - val_acc: 0.9200\n",
      "Epoch 269/500\n",
      "900/900 [==============================] - 0s 142us/sample - loss: 0.1748 - acc: 0.9744 - val_loss: 0.2983 - val_acc: 0.9200\n",
      "Epoch 270/500\n",
      "900/900 [==============================] - 0s 130us/sample - loss: 0.1743 - acc: 0.9744 - val_loss: 0.2981 - val_acc: 0.9200\n",
      "Epoch 271/500\n",
      "900/900 [==============================] - 0s 145us/sample - loss: 0.1739 - acc: 0.9744 - val_loss: 0.2979 - val_acc: 0.9200\n",
      "Epoch 272/500\n",
      "900/900 [==============================] - 0s 144us/sample - loss: 0.1735 - acc: 0.9744 - val_loss: 0.2976 - val_acc: 0.9200\n",
      "Epoch 273/500\n",
      "900/900 [==============================] - 0s 141us/sample - loss: 0.1730 - acc: 0.9756 - val_loss: 0.2967 - val_acc: 0.9200\n",
      "Epoch 274/500\n",
      "900/900 [==============================] - 0s 141us/sample - loss: 0.1726 - acc: 0.9756 - val_loss: 0.2962 - val_acc: 0.9200\n",
      "Epoch 275/500\n",
      "900/900 [==============================] - 0s 127us/sample - loss: 0.1722 - acc: 0.9756 - val_loss: 0.2963 - val_acc: 0.9200\n",
      "Epoch 276/500\n",
      "900/900 [==============================] - 0s 141us/sample - loss: 0.1718 - acc: 0.9744 - val_loss: 0.2960 - val_acc: 0.9200\n",
      "Epoch 277/500\n",
      "900/900 [==============================] - 0s 126us/sample - loss: 0.1714 - acc: 0.9744 - val_loss: 0.2949 - val_acc: 0.9200\n",
      "Epoch 278/500\n",
      "900/900 [==============================] - 0s 172us/sample - loss: 0.1709 - acc: 0.9744 - val_loss: 0.2946 - val_acc: 0.9200\n",
      "Epoch 279/500\n",
      "900/900 [==============================] - 0s 285us/sample - loss: 0.1705 - acc: 0.9756 - val_loss: 0.2946 - val_acc: 0.9200\n",
      "Epoch 280/500\n",
      "900/900 [==============================] - 0s 189us/sample - loss: 0.1701 - acc: 0.9756 - val_loss: 0.2945 - val_acc: 0.9200\n",
      "Epoch 281/500\n",
      "900/900 [==============================] - 0s 210us/sample - loss: 0.1697 - acc: 0.9756 - val_loss: 0.2944 - val_acc: 0.9200\n",
      "Epoch 282/500\n",
      "900/900 [==============================] - 0s 129us/sample - loss: 0.1693 - acc: 0.9756 - val_loss: 0.2943 - val_acc: 0.9200\n",
      "Epoch 283/500\n",
      "900/900 [==============================] - 0s 145us/sample - loss: 0.1689 - acc: 0.9756 - val_loss: 0.2941 - val_acc: 0.9200\n",
      "Epoch 284/500\n",
      "900/900 [==============================] - 0s 123us/sample - loss: 0.1685 - acc: 0.9756 - val_loss: 0.2929 - val_acc: 0.9200\n",
      "Epoch 285/500\n",
      "900/900 [==============================] - 0s 153us/sample - loss: 0.1681 - acc: 0.9756 - val_loss: 0.2932 - val_acc: 0.9200\n",
      "Epoch 286/500\n",
      "900/900 [==============================] - 0s 148us/sample - loss: 0.1677 - acc: 0.9756 - val_loss: 0.2923 - val_acc: 0.9200\n",
      "Epoch 287/500\n",
      "900/900 [==============================] - 0s 138us/sample - loss: 0.1673 - acc: 0.9756 - val_loss: 0.2919 - val_acc: 0.9300\n",
      "Epoch 288/500\n",
      "900/900 [==============================] - 0s 150us/sample - loss: 0.1669 - acc: 0.9756 - val_loss: 0.2916 - val_acc: 0.9300\n",
      "Epoch 289/500\n",
      "900/900 [==============================] - 0s 142us/sample - loss: 0.1665 - acc: 0.9756 - val_loss: 0.2914 - val_acc: 0.9300\n",
      "Epoch 290/500\n",
      "900/900 [==============================] - 0s 156us/sample - loss: 0.1661 - acc: 0.9756 - val_loss: 0.2910 - val_acc: 0.9300\n",
      "Epoch 291/500\n",
      "900/900 [==============================] - 0s 147us/sample - loss: 0.1657 - acc: 0.9756 - val_loss: 0.2901 - val_acc: 0.9300\n",
      "Epoch 292/500\n",
      "900/900 [==============================] - 0s 161us/sample - loss: 0.1653 - acc: 0.9756 - val_loss: 0.2898 - val_acc: 0.9300\n",
      "Epoch 293/500\n",
      "900/900 [==============================] - 0s 130us/sample - loss: 0.1650 - acc: 0.9756 - val_loss: 0.2894 - val_acc: 0.9300\n",
      "Epoch 294/500\n"
     ]
    },
    {
     "name": "stdout",
     "output_type": "stream",
     "text": [
      "900/900 [==============================] - 0s 164us/sample - loss: 0.1646 - acc: 0.9756 - val_loss: 0.2894 - val_acc: 0.9300\n",
      "Epoch 295/500\n",
      "900/900 [==============================] - 0s 102us/sample - loss: 0.1642 - acc: 0.9756 - val_loss: 0.2901 - val_acc: 0.9300\n",
      "Epoch 296/500\n",
      "900/900 [==============================] - 0s 106us/sample - loss: 0.1638 - acc: 0.9756 - val_loss: 0.2895 - val_acc: 0.9300\n",
      "Epoch 297/500\n",
      "900/900 [==============================] - 0s 102us/sample - loss: 0.1634 - acc: 0.9756 - val_loss: 0.2898 - val_acc: 0.9300\n",
      "Epoch 298/500\n",
      "900/900 [==============================] - 0s 120us/sample - loss: 0.1630 - acc: 0.9756 - val_loss: 0.2895 - val_acc: 0.9300\n",
      "Epoch 299/500\n",
      "900/900 [==============================] - 0s 157us/sample - loss: 0.1626 - acc: 0.9756 - val_loss: 0.2889 - val_acc: 0.9300\n",
      "Epoch 300/500\n",
      "900/900 [==============================] - 0s 117us/sample - loss: 0.1623 - acc: 0.9756 - val_loss: 0.2886 - val_acc: 0.9300\n",
      "Epoch 301/500\n",
      "900/900 [==============================] - 0s 110us/sample - loss: 0.1619 - acc: 0.9756 - val_loss: 0.2882 - val_acc: 0.9300\n",
      "Epoch 302/500\n",
      "900/900 [==============================] - 0s 124us/sample - loss: 0.1615 - acc: 0.9744 - val_loss: 0.2876 - val_acc: 0.9300\n",
      "Epoch 303/500\n",
      "900/900 [==============================] - 0s 121us/sample - loss: 0.1612 - acc: 0.9744 - val_loss: 0.2878 - val_acc: 0.9300\n",
      "Epoch 304/500\n",
      "900/900 [==============================] - 0s 118us/sample - loss: 0.1608 - acc: 0.9744 - val_loss: 0.2875 - val_acc: 0.9300\n",
      "Epoch 305/500\n",
      "900/900 [==============================] - 0s 126us/sample - loss: 0.1604 - acc: 0.9744 - val_loss: 0.2875 - val_acc: 0.9300\n",
      "Epoch 306/500\n",
      "900/900 [==============================] - 0s 120us/sample - loss: 0.1600 - acc: 0.9744 - val_loss: 0.2871 - val_acc: 0.9300\n",
      "Epoch 307/500\n",
      "900/900 [==============================] - 0s 118us/sample - loss: 0.1597 - acc: 0.9744 - val_loss: 0.2867 - val_acc: 0.9300\n",
      "Epoch 308/500\n",
      "900/900 [==============================] - 0s 121us/sample - loss: 0.1593 - acc: 0.9744 - val_loss: 0.2865 - val_acc: 0.9300\n",
      "Epoch 309/500\n",
      "900/900 [==============================] - 0s 124us/sample - loss: 0.1589 - acc: 0.9744 - val_loss: 0.2865 - val_acc: 0.9300\n",
      "Epoch 310/500\n",
      "900/900 [==============================] - 0s 131us/sample - loss: 0.1585 - acc: 0.9744 - val_loss: 0.2835 - val_acc: 0.9300\n",
      "Epoch 311/500\n",
      "900/900 [==============================] - 0s 123us/sample - loss: 0.1582 - acc: 0.9756 - val_loss: 0.2830 - val_acc: 0.9300\n",
      "Epoch 312/500\n",
      "900/900 [==============================] - 0s 146us/sample - loss: 0.1578 - acc: 0.9756 - val_loss: 0.2831 - val_acc: 0.9300\n",
      "Epoch 313/500\n",
      "900/900 [==============================] - 0s 125us/sample - loss: 0.1574 - acc: 0.9756 - val_loss: 0.2824 - val_acc: 0.9300\n",
      "Epoch 314/500\n",
      "900/900 [==============================] - 0s 119us/sample - loss: 0.1570 - acc: 0.9756 - val_loss: 0.2823 - val_acc: 0.9300\n",
      "Epoch 315/500\n",
      "900/900 [==============================] - 0s 108us/sample - loss: 0.1567 - acc: 0.9756 - val_loss: 0.2830 - val_acc: 0.9300\n",
      "Epoch 316/500\n",
      "900/900 [==============================] - 0s 117us/sample - loss: 0.1563 - acc: 0.9756 - val_loss: 0.2826 - val_acc: 0.9300\n",
      "Epoch 317/500\n",
      "900/900 [==============================] - 0s 118us/sample - loss: 0.1559 - acc: 0.9767 - val_loss: 0.2832 - val_acc: 0.9300\n",
      "Epoch 318/500\n",
      "900/900 [==============================] - 0s 114us/sample - loss: 0.1556 - acc: 0.9767 - val_loss: 0.2831 - val_acc: 0.9300\n",
      "Epoch 319/500\n",
      "900/900 [==============================] - 0s 134us/sample - loss: 0.1552 - acc: 0.9767 - val_loss: 0.2848 - val_acc: 0.9300\n",
      "Epoch 320/500\n",
      "900/900 [==============================] - 0s 118us/sample - loss: 0.1548 - acc: 0.9778 - val_loss: 0.2841 - val_acc: 0.9300\n",
      "Epoch 321/500\n",
      "900/900 [==============================] - 0s 136us/sample - loss: 0.1545 - acc: 0.9778 - val_loss: 0.2834 - val_acc: 0.9300\n",
      "Epoch 322/500\n",
      "900/900 [==============================] - 0s 128us/sample - loss: 0.1541 - acc: 0.9778 - val_loss: 0.2800 - val_acc: 0.9300\n",
      "Epoch 323/500\n",
      "900/900 [==============================] - 0s 117us/sample - loss: 0.1538 - acc: 0.9789 - val_loss: 0.2799 - val_acc: 0.9300\n",
      "Epoch 324/500\n",
      "900/900 [==============================] - 0s 158us/sample - loss: 0.1534 - acc: 0.9789 - val_loss: 0.2803 - val_acc: 0.9300\n",
      "Epoch 325/500\n",
      "900/900 [==============================] - 0s 173us/sample - loss: 0.1530 - acc: 0.9789 - val_loss: 0.2772 - val_acc: 0.9300\n",
      "Epoch 326/500\n",
      "900/900 [==============================] - 0s 151us/sample - loss: 0.1528 - acc: 0.9778 - val_loss: 0.2775 - val_acc: 0.9300\n",
      "Epoch 327/500\n",
      "900/900 [==============================] - 0s 147us/sample - loss: 0.1524 - acc: 0.9789 - val_loss: 0.2778 - val_acc: 0.9300\n",
      "Epoch 328/500\n",
      "900/900 [==============================] - 0s 141us/sample - loss: 0.1520 - acc: 0.9789 - val_loss: 0.2773 - val_acc: 0.9300\n",
      "Epoch 329/500\n",
      "900/900 [==============================] - 0s 134us/sample - loss: 0.1517 - acc: 0.9789 - val_loss: 0.2782 - val_acc: 0.9300\n",
      "Epoch 330/500\n",
      "900/900 [==============================] - 0s 132us/sample - loss: 0.1513 - acc: 0.9789 - val_loss: 0.2780 - val_acc: 0.9300\n",
      "Epoch 331/500\n",
      "900/900 [==============================] - 0s 123us/sample - loss: 0.1510 - acc: 0.9789 - val_loss: 0.2808 - val_acc: 0.9300\n",
      "Epoch 332/500\n",
      "900/900 [==============================] - 0s 137us/sample - loss: 0.1506 - acc: 0.9800 - val_loss: 0.2814 - val_acc: 0.9300\n",
      "Epoch 333/500\n",
      "900/900 [==============================] - 0s 126us/sample - loss: 0.1502 - acc: 0.9800 - val_loss: 0.2807 - val_acc: 0.9300\n",
      "Epoch 334/500\n",
      "900/900 [==============================] - 0s 163us/sample - loss: 0.1499 - acc: 0.9800 - val_loss: 0.2801 - val_acc: 0.9300\n",
      "Epoch 335/500\n",
      "900/900 [==============================] - 0s 150us/sample - loss: 0.1495 - acc: 0.9800 - val_loss: 0.2800 - val_acc: 0.9300\n",
      "Epoch 336/500\n",
      "900/900 [==============================] - 0s 140us/sample - loss: 0.1492 - acc: 0.9811 - val_loss: 0.2815 - val_acc: 0.9300\n",
      "Epoch 337/500\n",
      "900/900 [==============================] - 0s 132us/sample - loss: 0.1489 - acc: 0.9800 - val_loss: 0.2811 - val_acc: 0.9300\n",
      "Epoch 338/500\n",
      "900/900 [==============================] - 0s 150us/sample - loss: 0.1485 - acc: 0.9800 - val_loss: 0.2802 - val_acc: 0.9400\n",
      "Epoch 339/500\n",
      "900/900 [==============================] - 0s 143us/sample - loss: 0.1482 - acc: 0.9833 - val_loss: 0.2795 - val_acc: 0.9400\n",
      "Epoch 340/500\n",
      "900/900 [==============================] - 0s 127us/sample - loss: 0.1478 - acc: 0.9833 - val_loss: 0.2783 - val_acc: 0.9400\n",
      "Epoch 341/500\n",
      "900/900 [==============================] - 0s 149us/sample - loss: 0.1475 - acc: 0.9833 - val_loss: 0.2784 - val_acc: 0.9400\n",
      "Epoch 342/500\n",
      "900/900 [==============================] - 0s 135us/sample - loss: 0.1471 - acc: 0.9833 - val_loss: 0.2778 - val_acc: 0.9400\n",
      "Epoch 343/500\n",
      "900/900 [==============================] - 0s 115us/sample - loss: 0.1468 - acc: 0.9833 - val_loss: 0.2776 - val_acc: 0.9400\n",
      "Epoch 344/500\n",
      "900/900 [==============================] - 0s 140us/sample - loss: 0.1464 - acc: 0.9833 - val_loss: 0.2775 - val_acc: 0.9400\n",
      "Epoch 345/500\n",
      "900/900 [==============================] - 0s 135us/sample - loss: 0.1461 - acc: 0.9833 - val_loss: 0.2773 - val_acc: 0.9400\n",
      "Epoch 346/500\n",
      "900/900 [==============================] - 0s 124us/sample - loss: 0.1458 - acc: 0.9833 - val_loss: 0.2796 - val_acc: 0.9400\n",
      "Epoch 347/500\n",
      "900/900 [==============================] - 0s 146us/sample - loss: 0.1454 - acc: 0.9833 - val_loss: 0.2792 - val_acc: 0.9400\n",
      "Epoch 348/500\n",
      "900/900 [==============================] - 0s 140us/sample - loss: 0.1451 - acc: 0.9833 - val_loss: 0.2785 - val_acc: 0.9400\n",
      "Epoch 349/500\n",
      "900/900 [==============================] - 0s 169us/sample - loss: 0.1448 - acc: 0.9833 - val_loss: 0.2783 - val_acc: 0.9400\n",
      "Epoch 350/500\n",
      "900/900 [==============================] - 0s 158us/sample - loss: 0.1444 - acc: 0.9833 - val_loss: 0.2780 - val_acc: 0.9400\n",
      "Epoch 351/500\n",
      "900/900 [==============================] - 0s 153us/sample - loss: 0.1440 - acc: 0.9833 - val_loss: 0.2769 - val_acc: 0.9400\n",
      "Epoch 352/500\n",
      "900/900 [==============================] - 0s 162us/sample - loss: 0.1437 - acc: 0.9833 - val_loss: 0.2769 - val_acc: 0.9400\n",
      "Epoch 353/500\n"
     ]
    },
    {
     "name": "stdout",
     "output_type": "stream",
     "text": [
      "900/900 [==============================] - 0s 121us/sample - loss: 0.1434 - acc: 0.9833 - val_loss: 0.2764 - val_acc: 0.9400\n",
      "Epoch 354/500\n",
      "900/900 [==============================] - 0s 145us/sample - loss: 0.1430 - acc: 0.9856 - val_loss: 0.2757 - val_acc: 0.9400\n",
      "Epoch 355/500\n",
      "900/900 [==============================] - 0s 131us/sample - loss: 0.1427 - acc: 0.9856 - val_loss: 0.2737 - val_acc: 0.9400\n",
      "Epoch 356/500\n",
      "900/900 [==============================] - 0s 164us/sample - loss: 0.1423 - acc: 0.9856 - val_loss: 0.2757 - val_acc: 0.9400\n",
      "Epoch 357/500\n",
      "900/900 [==============================] - 0s 128us/sample - loss: 0.1420 - acc: 0.9856 - val_loss: 0.2752 - val_acc: 0.9400\n",
      "Epoch 358/500\n",
      "900/900 [==============================] - 0s 127us/sample - loss: 0.1416 - acc: 0.9856 - val_loss: 0.2745 - val_acc: 0.9400\n",
      "Epoch 359/500\n",
      "900/900 [==============================] - 0s 111us/sample - loss: 0.1413 - acc: 0.9856 - val_loss: 0.2742 - val_acc: 0.9400\n",
      "Epoch 360/500\n",
      "900/900 [==============================] - 0s 115us/sample - loss: 0.1410 - acc: 0.9856 - val_loss: 0.2761 - val_acc: 0.9300\n",
      "Epoch 361/500\n",
      "900/900 [==============================] - 0s 111us/sample - loss: 0.1407 - acc: 0.9856 - val_loss: 0.2754 - val_acc: 0.9300\n",
      "Epoch 362/500\n",
      "900/900 [==============================] - 0s 110us/sample - loss: 0.1403 - acc: 0.9856 - val_loss: 0.2749 - val_acc: 0.9400\n",
      "Epoch 363/500\n",
      "900/900 [==============================] - 0s 108us/sample - loss: 0.1400 - acc: 0.9856 - val_loss: 0.2746 - val_acc: 0.9400\n",
      "Epoch 364/500\n",
      "900/900 [==============================] - 0s 124us/sample - loss: 0.1397 - acc: 0.9856 - val_loss: 0.2741 - val_acc: 0.9400\n",
      "Epoch 365/500\n",
      "900/900 [==============================] - 0s 160us/sample - loss: 0.1394 - acc: 0.9856 - val_loss: 0.2743 - val_acc: 0.9300\n",
      "Epoch 366/500\n",
      "900/900 [==============================] - 0s 121us/sample - loss: 0.1391 - acc: 0.9856 - val_loss: 0.2738 - val_acc: 0.9300\n",
      "Epoch 367/500\n",
      "900/900 [==============================] - 0s 139us/sample - loss: 0.1388 - acc: 0.9856 - val_loss: 0.2736 - val_acc: 0.9300\n",
      "Epoch 368/500\n",
      "900/900 [==============================] - 0s 134us/sample - loss: 0.1385 - acc: 0.9856 - val_loss: 0.2728 - val_acc: 0.9400\n",
      "Epoch 369/500\n",
      "900/900 [==============================] - 0s 121us/sample - loss: 0.1381 - acc: 0.9856 - val_loss: 0.2728 - val_acc: 0.9300\n",
      "Epoch 370/500\n",
      "900/900 [==============================] - 0s 148us/sample - loss: 0.1378 - acc: 0.9856 - val_loss: 0.2729 - val_acc: 0.9300\n",
      "Epoch 371/500\n",
      "900/900 [==============================] - 0s 111us/sample - loss: 0.1376 - acc: 0.9856 - val_loss: 0.2723 - val_acc: 0.9300\n",
      "Epoch 372/500\n",
      "900/900 [==============================] - 0s 123us/sample - loss: 0.1373 - acc: 0.9856 - val_loss: 0.2717 - val_acc: 0.9300\n",
      "Epoch 373/500\n",
      "900/900 [==============================] - 0s 136us/sample - loss: 0.1369 - acc: 0.9856 - val_loss: 0.2731 - val_acc: 0.9300\n",
      "Epoch 374/500\n",
      "900/900 [==============================] - 0s 140us/sample - loss: 0.1366 - acc: 0.9856 - val_loss: 0.2720 - val_acc: 0.9300\n",
      "Epoch 375/500\n",
      "900/900 [==============================] - 0s 145us/sample - loss: 0.1363 - acc: 0.9856 - val_loss: 0.2706 - val_acc: 0.9400\n",
      "Epoch 376/500\n",
      "900/900 [==============================] - 0s 143us/sample - loss: 0.1361 - acc: 0.9856 - val_loss: 0.2694 - val_acc: 0.9400\n",
      "Epoch 377/500\n",
      "900/900 [==============================] - 0s 139us/sample - loss: 0.1357 - acc: 0.9856 - val_loss: 0.2664 - val_acc: 0.9400\n",
      "Epoch 378/500\n",
      "900/900 [==============================] - 0s 112us/sample - loss: 0.1355 - acc: 0.9856 - val_loss: 0.2667 - val_acc: 0.9400\n",
      "Epoch 379/500\n",
      "900/900 [==============================] - 0s 130us/sample - loss: 0.1351 - acc: 0.9856 - val_loss: 0.2670 - val_acc: 0.9400\n",
      "Epoch 380/500\n",
      "900/900 [==============================] - 0s 128us/sample - loss: 0.1348 - acc: 0.9856 - val_loss: 0.2669 - val_acc: 0.9400\n",
      "Epoch 381/500\n",
      "900/900 [==============================] - 0s 144us/sample - loss: 0.1345 - acc: 0.9856 - val_loss: 0.2670 - val_acc: 0.9400\n",
      "Epoch 382/500\n",
      "900/900 [==============================] - 0s 129us/sample - loss: 0.1342 - acc: 0.9856 - val_loss: 0.2674 - val_acc: 0.9400\n",
      "Epoch 383/500\n",
      "900/900 [==============================] - 0s 118us/sample - loss: 0.1339 - acc: 0.9856 - val_loss: 0.2674 - val_acc: 0.9300\n",
      "Epoch 384/500\n",
      "900/900 [==============================] - 0s 130us/sample - loss: 0.1336 - acc: 0.9856 - val_loss: 0.2675 - val_acc: 0.9300\n",
      "Epoch 385/500\n",
      "900/900 [==============================] - 0s 167us/sample - loss: 0.1333 - acc: 0.9856 - val_loss: 0.2673 - val_acc: 0.9300\n",
      "Epoch 386/500\n",
      "900/900 [==============================] - 0s 135us/sample - loss: 0.1331 - acc: 0.9856 - val_loss: 0.2686 - val_acc: 0.9300\n",
      "Epoch 387/500\n",
      "900/900 [==============================] - 0s 133us/sample - loss: 0.1328 - acc: 0.9856 - val_loss: 0.2684 - val_acc: 0.9300\n",
      "Epoch 388/500\n",
      "900/900 [==============================] - 0s 150us/sample - loss: 0.1325 - acc: 0.9856 - val_loss: 0.2680 - val_acc: 0.9300\n",
      "Epoch 389/500\n",
      "900/900 [==============================] - 0s 147us/sample - loss: 0.1322 - acc: 0.9856 - val_loss: 0.2667 - val_acc: 0.9300\n",
      "Epoch 390/500\n",
      "900/900 [==============================] - 0s 153us/sample - loss: 0.1319 - acc: 0.9856 - val_loss: 0.2666 - val_acc: 0.9300\n",
      "Epoch 391/500\n",
      "900/900 [==============================] - 0s 143us/sample - loss: 0.1316 - acc: 0.9856 - val_loss: 0.2656 - val_acc: 0.9300\n",
      "Epoch 392/500\n",
      "900/900 [==============================] - 0s 148us/sample - loss: 0.1313 - acc: 0.9856 - val_loss: 0.2660 - val_acc: 0.9300\n",
      "Epoch 393/500\n",
      "900/900 [==============================] - 0s 140us/sample - loss: 0.1310 - acc: 0.9856 - val_loss: 0.2652 - val_acc: 0.9300\n",
      "Epoch 394/500\n",
      "900/900 [==============================] - 0s 124us/sample - loss: 0.1307 - acc: 0.9867 - val_loss: 0.2653 - val_acc: 0.9300\n",
      "Epoch 395/500\n",
      "900/900 [==============================] - 0s 144us/sample - loss: 0.1305 - acc: 0.9856 - val_loss: 0.2656 - val_acc: 0.9300\n",
      "Epoch 396/500\n",
      "900/900 [==============================] - 0s 132us/sample - loss: 0.1301 - acc: 0.9900 - val_loss: 0.2646 - val_acc: 0.9300\n",
      "Epoch 397/500\n",
      "900/900 [==============================] - 0s 145us/sample - loss: 0.1299 - acc: 0.9867 - val_loss: 0.2633 - val_acc: 0.9300\n",
      "Epoch 398/500\n",
      "900/900 [==============================] - 0s 126us/sample - loss: 0.1296 - acc: 0.9856 - val_loss: 0.2638 - val_acc: 0.9300\n",
      "Epoch 399/500\n",
      "900/900 [==============================] - 0s 149us/sample - loss: 0.1293 - acc: 0.9856 - val_loss: 0.2641 - val_acc: 0.9300\n",
      "Epoch 400/500\n",
      "900/900 [==============================] - 0s 150us/sample - loss: 0.1290 - acc: 0.9856 - val_loss: 0.2657 - val_acc: 0.9300\n",
      "Epoch 401/500\n",
      "900/900 [==============================] - 0s 124us/sample - loss: 0.1287 - acc: 0.9889 - val_loss: 0.2656 - val_acc: 0.9300\n",
      "Epoch 402/500\n",
      "900/900 [==============================] - 0s 131us/sample - loss: 0.1284 - acc: 0.9900 - val_loss: 0.2657 - val_acc: 0.9300\n",
      "Epoch 403/500\n",
      "900/900 [==============================] - 0s 158us/sample - loss: 0.1282 - acc: 0.9900 - val_loss: 0.2651 - val_acc: 0.9300\n",
      "Epoch 404/500\n",
      "900/900 [==============================] - 0s 154us/sample - loss: 0.1279 - acc: 0.9900 - val_loss: 0.2649 - val_acc: 0.9300\n",
      "Epoch 405/500\n",
      "900/900 [==============================] - 0s 162us/sample - loss: 0.1276 - acc: 0.9900 - val_loss: 0.2648 - val_acc: 0.9300\n",
      "Epoch 406/500\n",
      "900/900 [==============================] - 0s 162us/sample - loss: 0.1273 - acc: 0.9900 - val_loss: 0.2646 - val_acc: 0.9300\n",
      "Epoch 407/500\n",
      "900/900 [==============================] - 0s 167us/sample - loss: 0.1271 - acc: 0.9900 - val_loss: 0.2662 - val_acc: 0.9300\n",
      "Epoch 408/500\n",
      "900/900 [==============================] - 0s 121us/sample - loss: 0.1268 - acc: 0.9900 - val_loss: 0.2659 - val_acc: 0.9300\n",
      "Epoch 409/500\n",
      "900/900 [==============================] - 0s 141us/sample - loss: 0.1265 - acc: 0.9900 - val_loss: 0.2658 - val_acc: 0.9300\n",
      "Epoch 410/500\n",
      "900/900 [==============================] - 0s 145us/sample - loss: 0.1262 - acc: 0.9900 - val_loss: 0.2656 - val_acc: 0.9300\n",
      "Epoch 411/500\n",
      "900/900 [==============================] - 0s 126us/sample - loss: 0.1260 - acc: 0.9900 - val_loss: 0.2650 - val_acc: 0.9300\n",
      "Epoch 412/500\n"
     ]
    },
    {
     "name": "stdout",
     "output_type": "stream",
     "text": [
      "900/900 [==============================] - 0s 155us/sample - loss: 0.1257 - acc: 0.9911 - val_loss: 0.2641 - val_acc: 0.9300\n",
      "Epoch 413/500\n",
      "900/900 [==============================] - 0s 145us/sample - loss: 0.1254 - acc: 0.9900 - val_loss: 0.2639 - val_acc: 0.9300\n",
      "Epoch 414/500\n",
      "900/900 [==============================] - 0s 143us/sample - loss: 0.1252 - acc: 0.9900 - val_loss: 0.2647 - val_acc: 0.9300\n",
      "Epoch 415/500\n",
      "900/900 [==============================] - 0s 147us/sample - loss: 0.1249 - acc: 0.9900 - val_loss: 0.2642 - val_acc: 0.9300\n",
      "Epoch 416/500\n",
      "900/900 [==============================] - 0s 119us/sample - loss: 0.1246 - acc: 0.9900 - val_loss: 0.2640 - val_acc: 0.9300\n",
      "Epoch 417/500\n",
      "900/900 [==============================] - 0s 135us/sample - loss: 0.1243 - acc: 0.9900 - val_loss: 0.2628 - val_acc: 0.9300\n",
      "Epoch 418/500\n",
      "900/900 [==============================] - 0s 126us/sample - loss: 0.1241 - acc: 0.9900 - val_loss: 0.2625 - val_acc: 0.9300\n",
      "Epoch 419/500\n",
      "900/900 [==============================] - 0s 120us/sample - loss: 0.1238 - acc: 0.9900 - val_loss: 0.2627 - val_acc: 0.9300\n",
      "Epoch 420/500\n",
      "900/900 [==============================] - 0s 137us/sample - loss: 0.1235 - acc: 0.9911 - val_loss: 0.2625 - val_acc: 0.9300\n",
      "Epoch 421/500\n",
      "900/900 [==============================] - 0s 137us/sample - loss: 0.1233 - acc: 0.9911 - val_loss: 0.2627 - val_acc: 0.9300\n",
      "Epoch 422/500\n",
      "900/900 [==============================] - 0s 137us/sample - loss: 0.1230 - acc: 0.9911 - val_loss: 0.2627 - val_acc: 0.9300\n",
      "Epoch 423/500\n",
      "900/900 [==============================] - 0s 107us/sample - loss: 0.1228 - acc: 0.9911 - val_loss: 0.2621 - val_acc: 0.9300\n",
      "Epoch 424/500\n",
      "900/900 [==============================] - 0s 98us/sample - loss: 0.1225 - acc: 0.9911 - val_loss: 0.2618 - val_acc: 0.9300\n",
      "Epoch 425/500\n",
      "900/900 [==============================] - 0s 107us/sample - loss: 0.1223 - acc: 0.9911 - val_loss: 0.2619 - val_acc: 0.9300\n",
      "Epoch 426/500\n",
      "900/900 [==============================] - 0s 108us/sample - loss: 0.1220 - acc: 0.9911 - val_loss: 0.2634 - val_acc: 0.9300\n",
      "Epoch 427/500\n",
      "900/900 [==============================] - 0s 128us/sample - loss: 0.1218 - acc: 0.9911 - val_loss: 0.2630 - val_acc: 0.9300\n",
      "Epoch 428/500\n",
      "900/900 [==============================] - 0s 124us/sample - loss: 0.1215 - acc: 0.9900 - val_loss: 0.2609 - val_acc: 0.9300\n",
      "Epoch 429/500\n",
      "900/900 [==============================] - 0s 162us/sample - loss: 0.1212 - acc: 0.9911 - val_loss: 0.2608 - val_acc: 0.9300\n",
      "Epoch 430/500\n",
      "900/900 [==============================] - 0s 120us/sample - loss: 0.1210 - acc: 0.9911 - val_loss: 0.2605 - val_acc: 0.9300\n",
      "Epoch 431/500\n",
      "900/900 [==============================] - 0s 135us/sample - loss: 0.1207 - acc: 0.9911 - val_loss: 0.2606 - val_acc: 0.9300\n",
      "Epoch 432/500\n",
      "900/900 [==============================] - 0s 136us/sample - loss: 0.1205 - acc: 0.9911 - val_loss: 0.2603 - val_acc: 0.9300\n",
      "Epoch 433/500\n",
      "900/900 [==============================] - 0s 134us/sample - loss: 0.1202 - acc: 0.9911 - val_loss: 0.2602 - val_acc: 0.9300\n",
      "Epoch 434/500\n",
      "900/900 [==============================] - 0s 121us/sample - loss: 0.1200 - acc: 0.9911 - val_loss: 0.2598 - val_acc: 0.9300\n",
      "Epoch 435/500\n",
      "900/900 [==============================] - 0s 145us/sample - loss: 0.1197 - acc: 0.9911 - val_loss: 0.2598 - val_acc: 0.9300\n",
      "Epoch 436/500\n",
      "900/900 [==============================] - 0s 145us/sample - loss: 0.1195 - acc: 0.9911 - val_loss: 0.2589 - val_acc: 0.9300\n",
      "Epoch 437/500\n",
      "900/900 [==============================] - 0s 138us/sample - loss: 0.1192 - acc: 0.9911 - val_loss: 0.2587 - val_acc: 0.9300\n",
      "Epoch 438/500\n",
      "900/900 [==============================] - 0s 142us/sample - loss: 0.1190 - acc: 0.9911 - val_loss: 0.2554 - val_acc: 0.9300\n",
      "Epoch 439/500\n",
      "900/900 [==============================] - 0s 128us/sample - loss: 0.1187 - acc: 0.9911 - val_loss: 0.2559 - val_acc: 0.9300\n",
      "Epoch 440/500\n",
      "900/900 [==============================] - 0s 116us/sample - loss: 0.1185 - acc: 0.9911 - val_loss: 0.2564 - val_acc: 0.9300\n",
      "Epoch 441/500\n",
      "900/900 [==============================] - 0s 124us/sample - loss: 0.1183 - acc: 0.9911 - val_loss: 0.2565 - val_acc: 0.9300\n",
      "Epoch 442/500\n",
      "900/900 [==============================] - 0s 111us/sample - loss: 0.1180 - acc: 0.9911 - val_loss: 0.2569 - val_acc: 0.9300\n",
      "Epoch 443/500\n",
      "900/900 [==============================] - 0s 154us/sample - loss: 0.1177 - acc: 0.9911 - val_loss: 0.2569 - val_acc: 0.9300\n",
      "Epoch 444/500\n",
      "900/900 [==============================] - 0s 155us/sample - loss: 0.1175 - acc: 0.9911 - val_loss: 0.2571 - val_acc: 0.9300\n",
      "Epoch 445/500\n",
      "900/900 [==============================] - 0s 135us/sample - loss: 0.1173 - acc: 0.9911 - val_loss: 0.2569 - val_acc: 0.9300\n",
      "Epoch 446/500\n",
      "900/900 [==============================] - 0s 140us/sample - loss: 0.1170 - acc: 0.9911 - val_loss: 0.2569 - val_acc: 0.9300\n",
      "Epoch 447/500\n",
      "900/900 [==============================] - 0s 134us/sample - loss: 0.1168 - acc: 0.9911 - val_loss: 0.2556 - val_acc: 0.9300\n",
      "Epoch 448/500\n",
      "900/900 [==============================] - 0s 149us/sample - loss: 0.1166 - acc: 0.9911 - val_loss: 0.2557 - val_acc: 0.9300\n",
      "Epoch 449/500\n",
      "900/900 [==============================] - 0s 156us/sample - loss: 0.1163 - acc: 0.9911 - val_loss: 0.2556 - val_acc: 0.9300\n",
      "Epoch 450/500\n",
      "900/900 [==============================] - 0s 118us/sample - loss: 0.1161 - acc: 0.9911 - val_loss: 0.2561 - val_acc: 0.9300\n",
      "Epoch 451/500\n",
      "900/900 [==============================] - 0s 130us/sample - loss: 0.1158 - acc: 0.9911 - val_loss: 0.2533 - val_acc: 0.9300\n",
      "Epoch 452/500\n",
      "900/900 [==============================] - 0s 128us/sample - loss: 0.1157 - acc: 0.9911 - val_loss: 0.2535 - val_acc: 0.9200\n",
      "Epoch 453/500\n",
      "900/900 [==============================] - 0s 124us/sample - loss: 0.1154 - acc: 0.9911 - val_loss: 0.2541 - val_acc: 0.9200\n",
      "Epoch 454/500\n",
      "900/900 [==============================] - 0s 131us/sample - loss: 0.1152 - acc: 0.9911 - val_loss: 0.2547 - val_acc: 0.9200\n",
      "Epoch 455/500\n",
      "900/900 [==============================] - 0s 131us/sample - loss: 0.1149 - acc: 0.9911 - val_loss: 0.2546 - val_acc: 0.9200\n",
      "Epoch 456/500\n",
      "900/900 [==============================] - 0s 122us/sample - loss: 0.1147 - acc: 0.9911 - val_loss: 0.2548 - val_acc: 0.9200\n",
      "Epoch 457/500\n",
      "900/900 [==============================] - 0s 117us/sample - loss: 0.1144 - acc: 0.9911 - val_loss: 0.2522 - val_acc: 0.9200\n",
      "Epoch 458/500\n",
      "900/900 [==============================] - 0s 109us/sample - loss: 0.1142 - acc: 0.9911 - val_loss: 0.2535 - val_acc: 0.9200\n",
      "Epoch 459/500\n",
      "900/900 [==============================] - 0s 118us/sample - loss: 0.1140 - acc: 0.9911 - val_loss: 0.2534 - val_acc: 0.9200\n",
      "Epoch 460/500\n",
      "900/900 [==============================] - 0s 138us/sample - loss: 0.1138 - acc: 0.9911 - val_loss: 0.2542 - val_acc: 0.9200\n",
      "Epoch 461/500\n",
      "900/900 [==============================] - 0s 138us/sample - loss: 0.1135 - acc: 0.9911 - val_loss: 0.2542 - val_acc: 0.9200\n",
      "Epoch 462/500\n",
      "900/900 [==============================] - 0s 125us/sample - loss: 0.1133 - acc: 0.9911 - val_loss: 0.2547 - val_acc: 0.9200\n",
      "Epoch 463/500\n",
      "900/900 [==============================] - 0s 154us/sample - loss: 0.1131 - acc: 0.9911 - val_loss: 0.2595 - val_acc: 0.9200\n",
      "Epoch 464/500\n",
      "900/900 [==============================] - 0s 143us/sample - loss: 0.1129 - acc: 0.9922 - val_loss: 0.2587 - val_acc: 0.9200\n",
      "Epoch 465/500\n",
      "900/900 [==============================] - 0s 152us/sample - loss: 0.1126 - acc: 0.9922 - val_loss: 0.2579 - val_acc: 0.9200\n",
      "Epoch 466/500\n",
      "900/900 [==============================] - 0s 160us/sample - loss: 0.1124 - acc: 0.9922 - val_loss: 0.2574 - val_acc: 0.9200\n",
      "Epoch 467/500\n",
      "900/900 [==============================] - 0s 137us/sample - loss: 0.1121 - acc: 0.9922 - val_loss: 0.2573 - val_acc: 0.9200\n",
      "Epoch 468/500\n",
      "900/900 [==============================] - 0s 139us/sample - loss: 0.1119 - acc: 0.9922 - val_loss: 0.2572 - val_acc: 0.9200\n",
      "Epoch 469/500\n",
      "900/900 [==============================] - 0s 140us/sample - loss: 0.1117 - acc: 0.9922 - val_loss: 0.2538 - val_acc: 0.9200\n",
      "Epoch 470/500\n",
      "900/900 [==============================] - 0s 124us/sample - loss: 0.1117 - acc: 0.9911 - val_loss: 0.2546 - val_acc: 0.9200\n",
      "Epoch 471/500\n"
     ]
    },
    {
     "name": "stdout",
     "output_type": "stream",
     "text": [
      "900/900 [==============================] - 0s 129us/sample - loss: 0.1114 - acc: 0.9922 - val_loss: 0.2541 - val_acc: 0.9200\n",
      "Epoch 472/500\n",
      "900/900 [==============================] - 0s 121us/sample - loss: 0.1111 - acc: 0.9922 - val_loss: 0.2549 - val_acc: 0.9200\n",
      "Epoch 473/500\n",
      "900/900 [==============================] - 0s 98us/sample - loss: 0.1109 - acc: 0.9922 - val_loss: 0.2552 - val_acc: 0.9200\n",
      "Epoch 474/500\n",
      "900/900 [==============================] - 0s 104us/sample - loss: 0.1106 - acc: 0.9922 - val_loss: 0.2554 - val_acc: 0.9200\n",
      "Epoch 475/500\n",
      "900/900 [==============================] - 0s 112us/sample - loss: 0.1104 - acc: 0.9922 - val_loss: 0.2557 - val_acc: 0.9200\n",
      "Epoch 476/500\n",
      "900/900 [==============================] - 0s 139us/sample - loss: 0.1102 - acc: 0.9922 - val_loss: 0.2550 - val_acc: 0.9200\n",
      "Epoch 477/500\n",
      "900/900 [==============================] - 0s 119us/sample - loss: 0.1100 - acc: 0.9922 - val_loss: 0.2550 - val_acc: 0.9200\n",
      "Epoch 478/500\n",
      "900/900 [==============================] - 0s 112us/sample - loss: 0.1097 - acc: 0.9922 - val_loss: 0.2550 - val_acc: 0.9200\n",
      "Epoch 479/500\n",
      "900/900 [==============================] - 0s 114us/sample - loss: 0.1095 - acc: 0.9922 - val_loss: 0.2551 - val_acc: 0.9200\n",
      "Epoch 480/500\n",
      "900/900 [==============================] - 0s 125us/sample - loss: 0.1093 - acc: 0.9922 - val_loss: 0.2550 - val_acc: 0.9200\n",
      "Epoch 481/500\n",
      "900/900 [==============================] - 0s 115us/sample - loss: 0.1091 - acc: 0.9922 - val_loss: 0.2551 - val_acc: 0.9200\n",
      "Epoch 482/500\n",
      "900/900 [==============================] - 0s 112us/sample - loss: 0.1089 - acc: 0.9922 - val_loss: 0.2521 - val_acc: 0.9200\n",
      "Epoch 483/500\n",
      "900/900 [==============================] - 0s 119us/sample - loss: 0.1089 - acc: 0.9922 - val_loss: 0.2532 - val_acc: 0.9200\n",
      "Epoch 484/500\n",
      "900/900 [==============================] - 0s 120us/sample - loss: 0.1086 - acc: 0.9922 - val_loss: 0.2539 - val_acc: 0.9200\n",
      "Epoch 485/500\n",
      "900/900 [==============================] - 0s 129us/sample - loss: 0.1084 - acc: 0.9922 - val_loss: 0.2545 - val_acc: 0.9200\n",
      "Epoch 486/500\n",
      "900/900 [==============================] - 0s 112us/sample - loss: 0.1081 - acc: 0.9922 - val_loss: 0.2562 - val_acc: 0.9200\n",
      "Epoch 487/500\n",
      "900/900 [==============================] - 0s 131us/sample - loss: 0.1078 - acc: 0.9922 - val_loss: 0.2552 - val_acc: 0.9200\n",
      "Epoch 488/500\n",
      "900/900 [==============================] - 0s 127us/sample - loss: 0.1076 - acc: 0.9922 - val_loss: 0.2596 - val_acc: 0.9100\n",
      "Epoch 489/500\n",
      "900/900 [==============================] - 0s 133us/sample - loss: 0.1074 - acc: 0.9922 - val_loss: 0.2591 - val_acc: 0.9100\n",
      "Epoch 490/500\n",
      "900/900 [==============================] - 0s 122us/sample - loss: 0.1072 - acc: 0.9922 - val_loss: 0.2585 - val_acc: 0.9200\n",
      "Epoch 491/500\n",
      "900/900 [==============================] - 0s 91us/sample - loss: 0.1070 - acc: 0.9922 - val_loss: 0.2585 - val_acc: 0.9100\n",
      "Epoch 492/500\n",
      "900/900 [==============================] - 0s 98us/sample - loss: 0.1068 - acc: 0.9922 - val_loss: 0.2599 - val_acc: 0.9100\n",
      "Epoch 493/500\n",
      "900/900 [==============================] - 0s 109us/sample - loss: 0.1066 - acc: 0.9922 - val_loss: 0.2612 - val_acc: 0.9100\n",
      "Epoch 494/500\n",
      "900/900 [==============================] - 0s 115us/sample - loss: 0.1063 - acc: 0.9922 - val_loss: 0.2604 - val_acc: 0.9100\n",
      "Epoch 495/500\n",
      "900/900 [==============================] - 0s 113us/sample - loss: 0.1061 - acc: 0.9922 - val_loss: 0.2598 - val_acc: 0.9100\n",
      "Epoch 496/500\n",
      "900/900 [==============================] - 0s 120us/sample - loss: 0.1059 - acc: 0.9922 - val_loss: 0.2591 - val_acc: 0.9200\n",
      "Epoch 497/500\n",
      "900/900 [==============================] - 0s 115us/sample - loss: 0.1057 - acc: 0.9922 - val_loss: 0.2597 - val_acc: 0.9100\n",
      "Epoch 498/500\n",
      "900/900 [==============================] - 0s 139us/sample - loss: 0.1055 - acc: 0.9922 - val_loss: 0.2599 - val_acc: 0.9100\n",
      "Epoch 499/500\n",
      "900/900 [==============================] - 0s 131us/sample - loss: 0.1053 - acc: 0.9922 - val_loss: 0.2593 - val_acc: 0.9100\n",
      "Epoch 500/500\n",
      "900/900 [==============================] - 0s 122us/sample - loss: 0.1051 - acc: 0.9922 - val_loss: 0.2588 - val_acc: 0.9100\n"
     ]
    }
   ],
   "source": [
    "history = model.fit(x_train, y_train, validation_data=(x_test, y_test), epochs=500)"
   ]
  },
  {
   "cell_type": "code",
   "execution_count": 34,
   "metadata": {},
   "outputs": [],
   "source": [
    "acc = history.history['acc']\n",
    "val_acc = history.history['val_acc']\n",
    "loss = history.history['loss']\n",
    "val_loss = history.history['val_loss']"
   ]
  },
  {
   "cell_type": "code",
   "execution_count": 35,
   "metadata": {},
   "outputs": [
    {
     "name": "stdout",
     "output_type": "stream",
     "text": [
      "Training acc: 0.99222225\n",
      "Test acc: 0.91\n"
     ]
    }
   ],
   "source": [
    "print(\"Training acc:\", acc[-1])\n",
    "print(\"Test acc:\", val_acc[-1])"
   ]
  },
  {
   "cell_type": "code",
   "execution_count": 36,
   "metadata": {},
   "outputs": [
    {
     "data": {
      "image/png": "[encoded data removed]",
      "text/plain": [
       "<Figure size 432x288 with 1 Axes>"
      ]
     },
     "metadata": {
      "needs_background": "light"
     },
     "output_type": "display_data"
    },
    {
     "data": {
      "text/plain": [
       "Text(0.5, 1.0, 'Training and validation loss')"
      ]
     },
     "execution_count": 36,
     "metadata": {},
     "output_type": "execute_result"
    },
    {
     "data": {
      "image/png": "[encoded data removed]",
      "text/plain": [
       "<Figure size 432x288 with 1 Axes>"
      ]
     },
     "metadata": {
      "needs_background": "light"
     },
     "output_type": "display_data"
    }
   ],
   "source": [
    "epochs=range(len(acc)) \n",
    "\n",
    "plt.plot(epochs, acc, 'r', \"Training Accuracy\")\n",
    "plt.plot(epochs, val_acc, 'b', \"Validation Accuracy\")\n",
    "plt.title('Training and validation accuracy')\n",
    "\n",
    "plt.show()\n",
    "\n",
    "plt.plot(epochs, loss, 'r', \"Training loss\")\n",
    "plt.plot(epochs, val_loss, 'b', \"Validation loss\")\n",
    "plt.title('Training and validation loss')"
   ]
  },
  {
   "cell_type": "markdown",
   "metadata": {},
   "source": [
    "# Percision and Recall Approach\n",
    "* Here is the precision and recall formula:\n",
    "\n",
    "![image of formula](./plots/precision_recall.jpeg)"
   ]
  },
  {
   "cell_type": "markdown",
   "metadata": {},
   "source": [
    "# Redeclaring X , y"
   ]
  },
  {
   "cell_type": "code",
   "execution_count": 37,
   "metadata": {},
   "outputs": [
    {
     "name": "stdout",
     "output_type": "stream",
     "text": [
      "X train shape: (256326, 29)\n",
      "y train shape: (256326,)\n",
      "\n",
      "X test shape: (28481, 29)\n",
      "y test shape: (28481,)\n"
     ]
    }
   ],
   "source": [
    "Data = df.to_numpy()\n",
    "\n",
    "train_test_ratio = 0.9\n",
    "\n",
    "random.shuffle(Data)\n",
    "\n",
    "X = Data[:, :-1]\n",
    "y = Data[:, -1]\n",
    "\n",
    "x_train = X[:math.floor(train_test_ratio * len(X))]\n",
    "y_train = y[:math.floor(train_test_ratio * len(y))]\n",
    "\n",
    "x_test = X[math.floor(train_test_ratio * len(X)):]\n",
    "y_test = y[math.floor(train_test_ratio * len(y)):]\n",
    "\n",
    "print(\"X train shape:\", x_train.shape)\n",
    "print(\"y train shape:\", y_train.shape)\n",
    "print()\n",
    "print(\"X test shape:\", x_test.shape)\n",
    "print(\"y test shape:\", y_test.shape)"
   ]
  },
  {
   "cell_type": "code",
   "execution_count": 65,
   "metadata": {},
   "outputs": [],
   "source": [
    "logistic_regression_clf = LogisticRegression(verbose=1, penalty='l2', max_iter=500, solver='lbfgs')"
   ]
  },
  {
   "cell_type": "code",
   "execution_count": 66,
   "metadata": {},
   "outputs": [
    {
     "name": "stderr",
     "output_type": "stream",
     "text": [
      "[Parallel(n_jobs=1)]: Using backend SequentialBackend with 1 concurrent workers.\n",
      "[Parallel(n_jobs=1)]: Done   1 out of   1 | elapsed:    5.1s finished\n"
     ]
    }
   ],
   "source": [
    "history = logistic_regression_clf.fit(x_train, y_train)"
   ]
  },
  {
   "cell_type": "code",
   "execution_count": 67,
   "metadata": {},
   "outputs": [],
   "source": [
    "y_prob = logistic_regression_clf.predict_proba(x_test)"
   ]
  },
  {
   "cell_type": "code",
   "execution_count": 41,
   "metadata": {},
   "outputs": [],
   "source": [
    "precisions, recalls, thresholds = precision_recall_curve(y_test, y_prob[:, 1])"
   ]
  },
  {
   "cell_type": "code",
   "execution_count": 42,
   "metadata": {},
   "outputs": [
    {
     "data": {
      "text/plain": [
       "(0, 1)"
      ]
     },
     "execution_count": 42,
     "metadata": {},
     "output_type": "execute_result"
    },
    {
     "data": {
      "image/png": "[encoded data removed]",
      "text/plain": [
       "<Figure size 432x288 with 1 Axes>"
      ]
     },
     "metadata": {
      "needs_background": "light"
     },
     "output_type": "display_data"
    }
   ],
   "source": [
    "plt.title(\"Precision-Recall vs Threshold Chart\")\n",
    "plt.plot(thresholds, precisions[: -1], \"b--\", label=\"Precision\")\n",
    "plt.plot(thresholds, recalls[: -1], \"r--\", label=\"Recall\")\n",
    "plt.ylabel(\"Precision, Recall\")\n",
    "plt.xlabel(\"Threshold\")\n",
    "plt.legend(loc=\"lower left\")\n",
    "plt.ylim([0,1])"
   ]
  },
  {
   "cell_type": "code",
   "execution_count": 43,
   "metadata": {},
   "outputs": [],
   "source": [
    "def compute_F1_scores(precisions, recalls):\n",
    "    assert len(precisions) == len(recalls)\n",
    "    F1_scores = []\n",
    "    for i in range(len(precisions)):\n",
    "        F1_score = 2 * (precisions[i] * recalls[i]) / (precisions[i] + recalls[i])\n",
    "        F1_scores.append(F1_score)\n",
    "    return np.asarray(F1_scores)"
   ]
  },
  {
   "cell_type": "code",
   "execution_count": 44,
   "metadata": {},
   "outputs": [],
   "source": [
    "def compute_single_F1_scores(precisions, recalls):\n",
    "    F1_score = 2 * (precisions * recalls) / (precisions + recalls)\n",
    "    return F1_score"
   ]
  },
  {
   "cell_type": "code",
   "execution_count": 45,
   "metadata": {},
   "outputs": [],
   "source": [
    "F1_scores = compute_F1_scores(precisions, recalls)   "
   ]
  },
  {
   "cell_type": "code",
   "execution_count": 46,
   "metadata": {},
   "outputs": [
    {
     "data": {
      "image/png": "[encoded data removed]",
      "text/plain": [
       "<Figure size 432x288 with 1 Axes>"
      ]
     },
     "metadata": {
      "needs_background": "light"
     },
     "output_type": "display_data"
    }
   ],
   "source": [
    "plt.plot(F1_scores, label='F1 score')\n",
    "plt.title(\"F1 score with precisions and recalls\")\n",
    "plt.ylabel(\"F1 score\")\n",
    "plt.xlabel(\"precisions, recalls\")\n",
    "plt.legend(loc=\"upper left\")\n",
    "plt.show()"
   ]
  },
  {
   "cell_type": "code",
   "execution_count": 84,
   "metadata": {},
   "outputs": [],
   "source": [
    "max_F1_score_index = F1_scores.argmax()"
   ]
  },
  {
   "cell_type": "code",
   "execution_count": 85,
   "metadata": {},
   "outputs": [
    {
     "name": "stdout",
     "output_type": "stream",
     "text": [
      "Maximum F1 score: 0.6465\n",
      "Properties:\n",
      "\tPercision: 0.7619\n",
      "\tRecall:    1\n",
      "\tThreshold: 0.192877\n"
     ]
    }
   ],
   "source": [
    "print(\"Maximum F1 score: %.4f\" % F1_scores[max_F1_score_index])\n",
    "print(\"Properties:\\n\\tPercision: %.4f\\n\\tRecall: %4.f\\n\\tThreshold: %f\" % (precisions[max_F1_score_index], recalls[max_F1_score_index], thresholds[max_F1_score_index]))"
   ]
  },
  {
   "cell_type": "code",
   "execution_count": 86,
   "metadata": {},
   "outputs": [],
   "source": [
    "y_pred = logistic_regression_clf.predict_proba(x_test)"
   ]
  },
  {
   "cell_type": "code",
   "execution_count": 87,
   "metadata": {},
   "outputs": [
    {
     "name": "stdout",
     "output_type": "stream",
     "text": [
      "Selected threshold: 0.19287650708148127\n"
     ]
    }
   ],
   "source": [
    "selected_threshold = thresholds[max_F1_score_index]\n",
    "print(\"Selected threshold:\", selected_threshold)"
   ]
  },
  {
   "cell_type": "code",
   "execution_count": 88,
   "metadata": {},
   "outputs": [],
   "source": [
    "y_predict = classify(y_pred[:, 1], selected_threshold)"
   ]
  },
  {
   "cell_type": "code",
   "execution_count": 91,
   "metadata": {},
   "outputs": [
    {
     "name": "stdout",
     "output_type": "stream",
     "text": [
      "[Logistic Regression] --> Accuracy over validation set: 0.9987711105649381\n"
     ]
    }
   ],
   "source": [
    "true_guesses = np.sum(y_predict == y_test)\n",
    "accuracy_over_validation_set = true_guesses / len(y_test)\n",
    "print(\"[Logistic Regression] --> Accuracy over validation set:\", accuracy_over_validation_set)"
   ]
  },
  {
   "cell_type": "markdown",
   "metadata": {},
   "source": [
    "# Computing F1-score"
   ]
  },
  {
   "cell_type": "code",
   "execution_count": 93,
   "metadata": {},
   "outputs": [],
   "source": [
    "precision = precision_score(y_test, y_predict)\n",
    "recall = recall_score(y_test, y_predict)"
   ]
  },
  {
   "cell_type": "code",
   "execution_count": 94,
   "metadata": {},
   "outputs": [
    {
     "name": "stdout",
     "output_type": "stream",
     "text": [
      "Precision value: 0.7619047619047619\n",
      "Recall value: 0.5614035087719298\n"
     ]
    }
   ],
   "source": [
    "print(\"Precision value:\", precision)\n",
    "print(\"Recall value:\", recall)"
   ]
  },
  {
   "cell_type": "code",
   "execution_count": 95,
   "metadata": {},
   "outputs": [],
   "source": [
    "F1_score = compute_single_F1_scores(precisions=precision, recalls=recall)"
   ]
  },
  {
   "cell_type": "code",
   "execution_count": 96,
   "metadata": {},
   "outputs": [
    {
     "name": "stdout",
     "output_type": "stream",
     "text": [
      "F1-score of predicted probability is 0.646465\n"
     ]
    }
   ],
   "source": [
    "print(\"F1-score of predicted probability is %.6f\" % F1_score)"
   ]
  },
  {
   "cell_type": "code",
   "execution_count": null,
   "metadata": {},
   "outputs": [],
   "source": []
  }
 ],
 "metadata": {
  "kernelspec": {
   "display_name": "Python 3",
   "language": "python",
   "name": "python3"
  },
  "language_info": {
   "codemirror_mode": {
    "name": "ipython",
    "version": 3
   },
   "file_extension": ".py",
   "mimetype": "text/x-python",
   "name": "python",
   "nbconvert_exporter": "python",
   "pygments_lexer": "ipython3",
   "version": "3.6.9"
  }
 },
 "nbformat": 4,
 "nbformat_minor": 2
}
